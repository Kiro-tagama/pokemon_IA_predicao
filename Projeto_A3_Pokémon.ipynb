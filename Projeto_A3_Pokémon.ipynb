{
  "nbformat": 4,
  "nbformat_minor": 0,
  "metadata": {
    "colab": {
      "name": "Projeto A3 Pokémon.ipynb",
      "provenance": [],
      "collapsed_sections": [
        "lPA_GqyQhAeD",
        "9WAGntKoe27K"
      ],
      "include_colab_link": true
    },
    "kernelspec": {
      "name": "python3",
      "display_name": "Python 3"
    },
    "language_info": {
      "name": "python"
    }
  },
  "cells": [
    {
      "cell_type": "markdown",
      "metadata": {
        "id": "view-in-github",
        "colab_type": "text"
      },
      "source": [
        "<a href=\"https://colab.research.google.com/github/Kiro-tagama/pokemon_IA_predicao/blob/main/Projeto_A3_Pok%C3%A9mon.ipynb\" target=\"_parent\"><img src=\"https://colab.research.google.com/assets/colab-badge.svg\" alt=\"Open In Colab\"/></a>"
      ]
    },
    {
      "cell_type": "markdown",
      "metadata": {
        "id": "9QdMxGW2dk3o"
      },
      "source": [
        "# Projeto de IA\n",
        "---\n",
        "Projeto de IA intruido pelos professores da USJT Carlos Menezes e Marcelo Duduchi \n",
        "\n",
        "---\n",
        "descrição do **projeto**:\n",
        "- BD: All Pokemons \n",
        "[kaggle.com](https://www.kaggle.com/maca11/all-pokemon-dataset)\n",
        "- objetivo: catch reat (capturabilidade)\n",
        "---\n",
        "membros:\n",
        "* Alexandres Cerqueira\n",
        "* Guilherme Vaz Oliveira\n",
        "* Henrique de Freitas Pereira\n",
        "* Rodrigo Lopes"
      ]
    },
    {
      "cell_type": "markdown",
      "metadata": {
        "id": "lPA_GqyQhAeD"
      },
      "source": [
        "# Import (principal)\n",
        "- importando a tabela"
      ]
    },
    {
      "cell_type": "code",
      "metadata": {
        "id": "6fsYsdqJdTcd"
      },
      "source": [
        "import pandas as pd\n",
        "import numpy as np\n",
        "from sklearn.model_selection import train_test_split\n",
        "import matplotlib.pyplot as plt\n",
        "import numpy as np\n",
        "import pandas as pd\n",
        "from imblearn.over_sampling import SMOTE\n",
        "import seaborn as sns"
      ],
      "execution_count": null,
      "outputs": []
    },
    {
      "cell_type": "code",
      "metadata": {
        "id": "Rweb1ibepQJW",
        "colab": {
          "base_uri": "https://localhost:8080/"
        },
        "outputId": "69d4d4ae-6cbd-4b25-a30a-e178a5a9a8cb"
      },
      "source": [
        "#Vendo e lendo as colunas que estão disponiveis\n",
        "!wget https://drive.google.com/u/2/uc?id=1z8h-_fmbZS7zyeppM5dYnxB80z6b8xsy&export=download\n",
        "!mv uc* All_Pokemon.csv\n",
        "pkm = pd.read_csv('All_Pokemon.csv')\n",
        "pkm.columns "
      ],
      "execution_count": null,
      "outputs": [
        {
          "output_type": "stream",
          "name": "stdout",
          "text": [
            "--2021-11-19 13:51:18--  https://drive.google.com/u/2/uc?id=1z8h-_fmbZS7zyeppM5dYnxB80z6b8xsy\n",
            "Resolving drive.google.com (drive.google.com)... 74.125.142.100, 74.125.142.101, 74.125.142.102, ...\n",
            "Connecting to drive.google.com (drive.google.com)|74.125.142.100|:443... connected.\n",
            "HTTP request sent, awaiting response... 302 Moved Temporarily\n",
            "Location: https://doc-0s-78-docs.googleusercontent.com/docs/securesc/ha0ro937gcuc7l7deffksulhg5h7mbp1/m06cdm4u2fabj53g2k42ctjsms8tmkbc/1637329875000/14261872243918006039/*/1z8h-_fmbZS7zyeppM5dYnxB80z6b8xsy [following]\n",
            "Warning: wildcards not supported in HTTP.\n",
            "--2021-11-19 13:51:18--  https://doc-0s-78-docs.googleusercontent.com/docs/securesc/ha0ro937gcuc7l7deffksulhg5h7mbp1/m06cdm4u2fabj53g2k42ctjsms8tmkbc/1637329875000/14261872243918006039/*/1z8h-_fmbZS7zyeppM5dYnxB80z6b8xsy\n",
            "Resolving doc-0s-78-docs.googleusercontent.com (doc-0s-78-docs.googleusercontent.com)... 74.125.195.132, 2607:f8b0:400e:c09::84\n",
            "Connecting to doc-0s-78-docs.googleusercontent.com (doc-0s-78-docs.googleusercontent.com)|74.125.195.132|:443... connected.\n",
            "HTTP request sent, awaiting response... 200 OK\n",
            "Length: 250845 (245K) [text/csv]\n",
            "Saving to: ‘uc?id=1z8h-_fmbZS7zyeppM5dYnxB80z6b8xsy’\n",
            "\n",
            "uc?id=1z8h-_fmbZS7z 100%[===================>] 244.97K  --.-KB/s    in 0.003s  \n",
            "\n",
            "2021-11-19 13:51:19 (75.8 MB/s) - ‘uc?id=1z8h-_fmbZS7zyeppM5dYnxB80z6b8xsy’ saved [250845/250845]\n",
            "\n"
          ]
        },
        {
          "output_type": "execute_result",
          "data": {
            "text/plain": [
              "Index(['Number', 'Name', 'Type 1', 'Type 2', 'Abilities', 'HP', 'Att', 'Def',\n",
              "       'Spa', 'Spd', 'Spe', 'BST', 'Mean', 'Standard Deviation', 'Generation',\n",
              "       'Experience type', 'Experience to level 100', 'Final Evolution',\n",
              "       'Catch Rate', 'Legendary', 'Mega Evolution', 'Alolan Form',\n",
              "       'Galarian Form', 'Against Normal', 'Against Fire', 'Against Water',\n",
              "       'Against Electric', 'Against Grass', 'Against Ice', 'Against Fighting',\n",
              "       'Against Poison', 'Against Ground', 'Against Flying', 'Against Psychic',\n",
              "       'Against Bug', 'Against Rock', 'Against Ghost', 'Against Dragon',\n",
              "       'Against Dark', 'Against Steel', 'Against Fairy', 'Height', 'Weight',\n",
              "       'BMI'],\n",
              "      dtype='object')"
            ]
          },
          "metadata": {},
          "execution_count": 6
        }
      ]
    },
    {
      "cell_type": "code",
      "metadata": {
        "colab": {
          "base_uri": "https://localhost:8080/"
        },
        "id": "5_40zNdfrZPv",
        "outputId": "0419f1cb-64ce-4710-d53c-640da03a978b"
      },
      "source": [
        "# Visualizar o começo da base de dados.\n",
        "pkm.head()"
      ],
      "execution_count": null,
      "outputs": [
        {
          "output_type": "execute_result",
          "data": {
            "text/html": [
              "<div>\n",
              "<style scoped>\n",
              "    .dataframe tbody tr th:only-of-type {\n",
              "        vertical-align: middle;\n",
              "    }\n",
              "\n",
              "    .dataframe tbody tr th {\n",
              "        vertical-align: top;\n",
              "    }\n",
              "\n",
              "    .dataframe thead th {\n",
              "        text-align: right;\n",
              "    }\n",
              "</style>\n",
              "<table border=\"1\" class=\"dataframe\">\n",
              "  <thead>\n",
              "    <tr style=\"text-align: right;\">\n",
              "      <th></th>\n",
              "      <th>Number</th>\n",
              "      <th>Name</th>\n",
              "      <th>Type 1</th>\n",
              "      <th>Type 2</th>\n",
              "      <th>Abilities</th>\n",
              "      <th>HP</th>\n",
              "      <th>Att</th>\n",
              "      <th>Def</th>\n",
              "      <th>Spa</th>\n",
              "      <th>Spd</th>\n",
              "      <th>Spe</th>\n",
              "      <th>BST</th>\n",
              "      <th>Mean</th>\n",
              "      <th>Standard Deviation</th>\n",
              "      <th>Generation</th>\n",
              "      <th>Experience type</th>\n",
              "      <th>Experience to level 100</th>\n",
              "      <th>Final Evolution</th>\n",
              "      <th>Catch Rate</th>\n",
              "      <th>Legendary</th>\n",
              "      <th>Mega Evolution</th>\n",
              "      <th>Alolan Form</th>\n",
              "      <th>Galarian Form</th>\n",
              "      <th>Against Normal</th>\n",
              "      <th>Against Fire</th>\n",
              "      <th>Against Water</th>\n",
              "      <th>Against Electric</th>\n",
              "      <th>Against Grass</th>\n",
              "      <th>Against Ice</th>\n",
              "      <th>Against Fighting</th>\n",
              "      <th>Against Poison</th>\n",
              "      <th>Against Ground</th>\n",
              "      <th>Against Flying</th>\n",
              "      <th>Against Psychic</th>\n",
              "      <th>Against Bug</th>\n",
              "      <th>Against Rock</th>\n",
              "      <th>Against Ghost</th>\n",
              "      <th>Against Dragon</th>\n",
              "      <th>Against Dark</th>\n",
              "      <th>Against Steel</th>\n",
              "      <th>Against Fairy</th>\n",
              "      <th>Height</th>\n",
              "      <th>Weight</th>\n",
              "      <th>BMI</th>\n",
              "    </tr>\n",
              "  </thead>\n",
              "  <tbody>\n",
              "    <tr>\n",
              "      <th>0</th>\n",
              "      <td>1</td>\n",
              "      <td>Bulbasaur</td>\n",
              "      <td>Grass</td>\n",
              "      <td>Poison</td>\n",
              "      <td>['Chlorophyll', 'Overgrow']</td>\n",
              "      <td>45</td>\n",
              "      <td>49</td>\n",
              "      <td>49</td>\n",
              "      <td>65</td>\n",
              "      <td>65</td>\n",
              "      <td>45</td>\n",
              "      <td>318</td>\n",
              "      <td>53.000000</td>\n",
              "      <td>8.640988</td>\n",
              "      <td>1.0</td>\n",
              "      <td>Medium Slow</td>\n",
              "      <td>1059860</td>\n",
              "      <td>0.0</td>\n",
              "      <td>45</td>\n",
              "      <td>0.0</td>\n",
              "      <td>0.0</td>\n",
              "      <td>0.0</td>\n",
              "      <td>0.0</td>\n",
              "      <td>1.0</td>\n",
              "      <td>2.0</td>\n",
              "      <td>0.5</td>\n",
              "      <td>0.5</td>\n",
              "      <td>0.25</td>\n",
              "      <td>2.0</td>\n",
              "      <td>0.5</td>\n",
              "      <td>1.0</td>\n",
              "      <td>1.0</td>\n",
              "      <td>2.0</td>\n",
              "      <td>2.0</td>\n",
              "      <td>1.0</td>\n",
              "      <td>1.0</td>\n",
              "      <td>1.0</td>\n",
              "      <td>1.0</td>\n",
              "      <td>1.0</td>\n",
              "      <td>1.0</td>\n",
              "      <td>0.5</td>\n",
              "      <td>0.7</td>\n",
              "      <td>6.9</td>\n",
              "      <td>14.1</td>\n",
              "    </tr>\n",
              "    <tr>\n",
              "      <th>1</th>\n",
              "      <td>2</td>\n",
              "      <td>Ivysaur</td>\n",
              "      <td>Grass</td>\n",
              "      <td>Poison</td>\n",
              "      <td>['Chlorophyll', 'Overgrow']</td>\n",
              "      <td>60</td>\n",
              "      <td>62</td>\n",
              "      <td>63</td>\n",
              "      <td>80</td>\n",
              "      <td>80</td>\n",
              "      <td>60</td>\n",
              "      <td>405</td>\n",
              "      <td>67.500000</td>\n",
              "      <td>8.902247</td>\n",
              "      <td>1.0</td>\n",
              "      <td>Medium Slow</td>\n",
              "      <td>1059860</td>\n",
              "      <td>0.0</td>\n",
              "      <td>45</td>\n",
              "      <td>0.0</td>\n",
              "      <td>0.0</td>\n",
              "      <td>0.0</td>\n",
              "      <td>0.0</td>\n",
              "      <td>1.0</td>\n",
              "      <td>2.0</td>\n",
              "      <td>0.5</td>\n",
              "      <td>0.5</td>\n",
              "      <td>0.25</td>\n",
              "      <td>2.0</td>\n",
              "      <td>0.5</td>\n",
              "      <td>1.0</td>\n",
              "      <td>1.0</td>\n",
              "      <td>2.0</td>\n",
              "      <td>2.0</td>\n",
              "      <td>1.0</td>\n",
              "      <td>1.0</td>\n",
              "      <td>1.0</td>\n",
              "      <td>1.0</td>\n",
              "      <td>1.0</td>\n",
              "      <td>1.0</td>\n",
              "      <td>0.5</td>\n",
              "      <td>1.0</td>\n",
              "      <td>13.0</td>\n",
              "      <td>13.0</td>\n",
              "    </tr>\n",
              "    <tr>\n",
              "      <th>2</th>\n",
              "      <td>3</td>\n",
              "      <td>Venusaur</td>\n",
              "      <td>Grass</td>\n",
              "      <td>Poison</td>\n",
              "      <td>['Chlorophyll', 'Overgrow']</td>\n",
              "      <td>80</td>\n",
              "      <td>82</td>\n",
              "      <td>83</td>\n",
              "      <td>100</td>\n",
              "      <td>100</td>\n",
              "      <td>80</td>\n",
              "      <td>525</td>\n",
              "      <td>87.500000</td>\n",
              "      <td>8.902247</td>\n",
              "      <td>1.0</td>\n",
              "      <td>Medium Slow</td>\n",
              "      <td>1059860</td>\n",
              "      <td>1.0</td>\n",
              "      <td>45</td>\n",
              "      <td>0.0</td>\n",
              "      <td>0.0</td>\n",
              "      <td>0.0</td>\n",
              "      <td>0.0</td>\n",
              "      <td>1.0</td>\n",
              "      <td>2.0</td>\n",
              "      <td>0.5</td>\n",
              "      <td>0.5</td>\n",
              "      <td>0.25</td>\n",
              "      <td>2.0</td>\n",
              "      <td>0.5</td>\n",
              "      <td>1.0</td>\n",
              "      <td>1.0</td>\n",
              "      <td>2.0</td>\n",
              "      <td>2.0</td>\n",
              "      <td>1.0</td>\n",
              "      <td>1.0</td>\n",
              "      <td>1.0</td>\n",
              "      <td>1.0</td>\n",
              "      <td>1.0</td>\n",
              "      <td>1.0</td>\n",
              "      <td>0.5</td>\n",
              "      <td>2.0</td>\n",
              "      <td>100.0</td>\n",
              "      <td>25.0</td>\n",
              "    </tr>\n",
              "    <tr>\n",
              "      <th>3</th>\n",
              "      <td>3</td>\n",
              "      <td>Mega Venusaur</td>\n",
              "      <td>Grass</td>\n",
              "      <td>Poison</td>\n",
              "      <td>['Thick Fat']</td>\n",
              "      <td>80</td>\n",
              "      <td>100</td>\n",
              "      <td>123</td>\n",
              "      <td>122</td>\n",
              "      <td>120</td>\n",
              "      <td>80</td>\n",
              "      <td>625</td>\n",
              "      <td>104.166667</td>\n",
              "      <td>18.747592</td>\n",
              "      <td>6.0</td>\n",
              "      <td>Medium Slow</td>\n",
              "      <td>1059860</td>\n",
              "      <td>1.0</td>\n",
              "      <td>45</td>\n",
              "      <td>0.0</td>\n",
              "      <td>1.0</td>\n",
              "      <td>0.0</td>\n",
              "      <td>0.0</td>\n",
              "      <td>1.0</td>\n",
              "      <td>2.0</td>\n",
              "      <td>0.5</td>\n",
              "      <td>0.5</td>\n",
              "      <td>0.25</td>\n",
              "      <td>2.0</td>\n",
              "      <td>0.5</td>\n",
              "      <td>1.0</td>\n",
              "      <td>1.0</td>\n",
              "      <td>2.0</td>\n",
              "      <td>2.0</td>\n",
              "      <td>1.0</td>\n",
              "      <td>1.0</td>\n",
              "      <td>1.0</td>\n",
              "      <td>1.0</td>\n",
              "      <td>1.0</td>\n",
              "      <td>1.0</td>\n",
              "      <td>0.5</td>\n",
              "      <td>2.4</td>\n",
              "      <td>155.5</td>\n",
              "      <td>27.0</td>\n",
              "    </tr>\n",
              "    <tr>\n",
              "      <th>4</th>\n",
              "      <td>4</td>\n",
              "      <td>Charmander</td>\n",
              "      <td>Fire</td>\n",
              "      <td>NaN</td>\n",
              "      <td>['Blaze', 'Solar Power']</td>\n",
              "      <td>39</td>\n",
              "      <td>52</td>\n",
              "      <td>43</td>\n",
              "      <td>60</td>\n",
              "      <td>50</td>\n",
              "      <td>65</td>\n",
              "      <td>309</td>\n",
              "      <td>51.500000</td>\n",
              "      <td>8.995369</td>\n",
              "      <td>1.0</td>\n",
              "      <td>Medium Slow</td>\n",
              "      <td>1059860</td>\n",
              "      <td>0.0</td>\n",
              "      <td>45</td>\n",
              "      <td>0.0</td>\n",
              "      <td>0.0</td>\n",
              "      <td>0.0</td>\n",
              "      <td>0.0</td>\n",
              "      <td>1.0</td>\n",
              "      <td>0.5</td>\n",
              "      <td>2.0</td>\n",
              "      <td>1.0</td>\n",
              "      <td>0.50</td>\n",
              "      <td>0.5</td>\n",
              "      <td>1.0</td>\n",
              "      <td>1.0</td>\n",
              "      <td>2.0</td>\n",
              "      <td>1.0</td>\n",
              "      <td>1.0</td>\n",
              "      <td>0.5</td>\n",
              "      <td>2.0</td>\n",
              "      <td>1.0</td>\n",
              "      <td>1.0</td>\n",
              "      <td>1.0</td>\n",
              "      <td>0.5</td>\n",
              "      <td>0.5</td>\n",
              "      <td>0.6</td>\n",
              "      <td>8.5</td>\n",
              "      <td>23.6</td>\n",
              "    </tr>\n",
              "  </tbody>\n",
              "</table>\n",
              "</div>"
            ],
            "text/plain": [
              "   Number           Name Type 1  Type 2  ... Against Fairy  Height  Weight   BMI\n",
              "0       1      Bulbasaur  Grass  Poison  ...           0.5     0.7     6.9  14.1\n",
              "1       2        Ivysaur  Grass  Poison  ...           0.5     1.0    13.0  13.0\n",
              "2       3       Venusaur  Grass  Poison  ...           0.5     2.0   100.0  25.0\n",
              "3       3  Mega Venusaur  Grass  Poison  ...           0.5     2.4   155.5  27.0\n",
              "4       4     Charmander   Fire     NaN  ...           0.5     0.6     8.5  23.6\n",
              "\n",
              "[5 rows x 44 columns]"
            ]
          },
          "metadata": {},
          "execution_count": 7
        }
      ]
    },
    {
      "cell_type": "markdown",
      "metadata": {
        "id": "OlrLZ-1jQuQj"
      },
      "source": [
        "**Informação sobre cada coluna da planilha:**\n",
        "\n",
        "---\n",
        "\n",
        "**Number:** Número do pokémon de acordo com a pokedex\n",
        "\n",
        "**Name:** Nome do pokémon\n",
        "\n",
        "**Type 1:** Tipo primário do pokémon\n",
        "\n",
        "**Type 2:** Tipo secundário do pokémon (se houver)\n",
        "\n",
        "**Abilities:** Uma lista das habilidades do pokémon\n",
        "\n",
        "**HP:** Pontos de vida base do pokémon\n",
        "\n",
        "**Att:** Pontos de ataque base do pokémon\n",
        "\n",
        "**Def:** Pontos de defesa base do pokémon\n",
        "\n",
        "**Spa:** Pontos de super ataque base do pokémon\n",
        "\n",
        "**Spd:** Pontos de super defesa base do pokémon\n",
        "\n",
        "**Spe:** Pontos de velocidade base do pokémon\n",
        "\n",
        "**BST:** Soma de todos os status base\n",
        "\n",
        "**Mean:** Média dos status base\n",
        "\n",
        "**Standard Deviation:** Desvio padrão dos status base\n",
        "\n",
        "**Generation:** A geração em que o pokémon foi introduzido\n",
        "\n",
        "**Experience Type:** Tipo de experiência do pokémon\n",
        "\n",
        "**Experience to level 100:** Quantidade de experiência que o pokémon precisa para chegar no nível 100\n",
        "\n",
        "**Final Evolution:** Demonstra se o pokémon é a evolução\n",
        "\n",
        "**Catch Rate:** Chance de capturar o pokémon\n",
        "\n",
        "**Legendary:** Demonstra se o pokémon é lendário\n",
        "\n",
        "**Mega Evolution:** Demonstra se o pokémon é uma mega evolução\n",
        "\n",
        "**Alolan Form:** Demonstra se o pokémon é uma forma de Alola\n",
        "\n",
        "**Galarian Form:** Demonstra se o pokémon é uma forma de Galarian\n",
        "\n",
        "**Against { }:** Efetividade contra certos tipos de pokémon"
      ]
    },
    {
      "cell_type": "markdown",
      "metadata": {
        "id": "9WAGntKoe27K"
      },
      "source": [
        "# Filtragem\n",
        "- transformando o Catch Rate em níveis\n",
        "- transformando o type 1 em numeros\n",
        "- correlação com o Catch Rate\n",
        "- eliminando aquilo que não será utilizado  \n",
        "- definição de alvo"
      ]
    },
    {
      "cell_type": "code",
      "metadata": {
        "id": "bjcR0ID63QtE"
      },
      "source": [
        "pkm.rename(columns= {'Catch Rate': 'CatchRate'}, inplace = True)"
      ],
      "execution_count": null,
      "outputs": []
    },
    {
      "cell_type": "code",
      "metadata": {
        "colab": {
          "base_uri": "https://localhost:8080/"
        },
        "id": "GlqT16EgmmVs",
        "outputId": "e80f258c-10e2-41c5-acd2-ca19de39c20f"
      },
      "source": [
        "pkm.groupby(by='CatchRate').size() # 34 tipos  \n",
        "#pkm['Catch Rate'].value_counts() mesmo comando"
      ],
      "execution_count": null,
      "outputs": [
        {
          "output_type": "execute_result",
          "data": {
            "text/plain": [
              "CatchRate\n",
              "3       96\n",
              "10       4\n",
              "15       1\n",
              "25      13\n",
              "30      26\n",
              "35       1\n",
              "45     337\n",
              "50       9\n",
              "55       3\n",
              "60      68\n",
              "65       3\n",
              "70       5\n",
              "75      75\n",
              "80       2\n",
              "90      48\n",
              "100      7\n",
              "120     67\n",
              "125      3\n",
              "127      8\n",
              "130      2\n",
              "140      6\n",
              "145      1\n",
              "150      8\n",
              "155      1\n",
              "160      1\n",
              "170      2\n",
              "180     13\n",
              "190     84\n",
              "200     20\n",
              "205      1\n",
              "220      2\n",
              "225     15\n",
              "235      8\n",
              "255     92\n",
              "dtype: int64"
            ]
          },
          "metadata": {},
          "execution_count": 9
        }
      ]
    },
    {
      "cell_type": "markdown",
      "metadata": {
        "id": "e6Z_iYfdtiCQ"
      },
      "source": [
        "34 tipos divididos pela metade (fácil e difícil)\n",
        "\n",
        "(< 120 -> Difícil)\n",
        "\n",
        "(> 120 -> Fácil)\n"
      ]
    },
    {
      "cell_type": "code",
      "metadata": {
        "id": "H-JEo5mDDQJu"
      },
      "source": [
        "def converterPegabilidade(x):\n",
        "  if x < 120: return 1\n",
        "  else: return 2"
      ],
      "execution_count": null,
      "outputs": []
    },
    {
      "cell_type": "code",
      "metadata": {
        "id": "Fl0IhzqNsQXj"
      },
      "source": [
        "pkm['CatchRate'] = pkm.apply(lambda x: converterPegabilidade(x['CatchRate']), axis=1)"
      ],
      "execution_count": null,
      "outputs": []
    },
    {
      "cell_type": "code",
      "metadata": {
        "colab": {
          "base_uri": "https://localhost:8080/"
        },
        "id": "ku4pIu8Iy8TY",
        "outputId": "806fa01c-d90b-4a32-b2f3-319fac40ec15"
      },
      "source": [
        "pkm.head()"
      ],
      "execution_count": null,
      "outputs": [
        {
          "output_type": "execute_result",
          "data": {
            "text/html": [
              "<div>\n",
              "<style scoped>\n",
              "    .dataframe tbody tr th:only-of-type {\n",
              "        vertical-align: middle;\n",
              "    }\n",
              "\n",
              "    .dataframe tbody tr th {\n",
              "        vertical-align: top;\n",
              "    }\n",
              "\n",
              "    .dataframe thead th {\n",
              "        text-align: right;\n",
              "    }\n",
              "</style>\n",
              "<table border=\"1\" class=\"dataframe\">\n",
              "  <thead>\n",
              "    <tr style=\"text-align: right;\">\n",
              "      <th></th>\n",
              "      <th>Number</th>\n",
              "      <th>Name</th>\n",
              "      <th>Type 1</th>\n",
              "      <th>Type 2</th>\n",
              "      <th>Abilities</th>\n",
              "      <th>HP</th>\n",
              "      <th>Att</th>\n",
              "      <th>Def</th>\n",
              "      <th>Spa</th>\n",
              "      <th>Spd</th>\n",
              "      <th>Spe</th>\n",
              "      <th>BST</th>\n",
              "      <th>Mean</th>\n",
              "      <th>Standard Deviation</th>\n",
              "      <th>Generation</th>\n",
              "      <th>Experience type</th>\n",
              "      <th>Experience to level 100</th>\n",
              "      <th>Final Evolution</th>\n",
              "      <th>CatchRate</th>\n",
              "      <th>Legendary</th>\n",
              "      <th>Mega Evolution</th>\n",
              "      <th>Alolan Form</th>\n",
              "      <th>Galarian Form</th>\n",
              "      <th>Against Normal</th>\n",
              "      <th>Against Fire</th>\n",
              "      <th>Against Water</th>\n",
              "      <th>Against Electric</th>\n",
              "      <th>Against Grass</th>\n",
              "      <th>Against Ice</th>\n",
              "      <th>Against Fighting</th>\n",
              "      <th>Against Poison</th>\n",
              "      <th>Against Ground</th>\n",
              "      <th>Against Flying</th>\n",
              "      <th>Against Psychic</th>\n",
              "      <th>Against Bug</th>\n",
              "      <th>Against Rock</th>\n",
              "      <th>Against Ghost</th>\n",
              "      <th>Against Dragon</th>\n",
              "      <th>Against Dark</th>\n",
              "      <th>Against Steel</th>\n",
              "      <th>Against Fairy</th>\n",
              "      <th>Height</th>\n",
              "      <th>Weight</th>\n",
              "      <th>BMI</th>\n",
              "    </tr>\n",
              "  </thead>\n",
              "  <tbody>\n",
              "    <tr>\n",
              "      <th>0</th>\n",
              "      <td>1</td>\n",
              "      <td>Bulbasaur</td>\n",
              "      <td>Grass</td>\n",
              "      <td>Poison</td>\n",
              "      <td>['Chlorophyll', 'Overgrow']</td>\n",
              "      <td>45</td>\n",
              "      <td>49</td>\n",
              "      <td>49</td>\n",
              "      <td>65</td>\n",
              "      <td>65</td>\n",
              "      <td>45</td>\n",
              "      <td>318</td>\n",
              "      <td>53.000000</td>\n",
              "      <td>8.640988</td>\n",
              "      <td>1.0</td>\n",
              "      <td>Medium Slow</td>\n",
              "      <td>1059860</td>\n",
              "      <td>0.0</td>\n",
              "      <td>1</td>\n",
              "      <td>0.0</td>\n",
              "      <td>0.0</td>\n",
              "      <td>0.0</td>\n",
              "      <td>0.0</td>\n",
              "      <td>1.0</td>\n",
              "      <td>2.0</td>\n",
              "      <td>0.5</td>\n",
              "      <td>0.5</td>\n",
              "      <td>0.25</td>\n",
              "      <td>2.0</td>\n",
              "      <td>0.5</td>\n",
              "      <td>1.0</td>\n",
              "      <td>1.0</td>\n",
              "      <td>2.0</td>\n",
              "      <td>2.0</td>\n",
              "      <td>1.0</td>\n",
              "      <td>1.0</td>\n",
              "      <td>1.0</td>\n",
              "      <td>1.0</td>\n",
              "      <td>1.0</td>\n",
              "      <td>1.0</td>\n",
              "      <td>0.5</td>\n",
              "      <td>0.7</td>\n",
              "      <td>6.9</td>\n",
              "      <td>14.1</td>\n",
              "    </tr>\n",
              "    <tr>\n",
              "      <th>1</th>\n",
              "      <td>2</td>\n",
              "      <td>Ivysaur</td>\n",
              "      <td>Grass</td>\n",
              "      <td>Poison</td>\n",
              "      <td>['Chlorophyll', 'Overgrow']</td>\n",
              "      <td>60</td>\n",
              "      <td>62</td>\n",
              "      <td>63</td>\n",
              "      <td>80</td>\n",
              "      <td>80</td>\n",
              "      <td>60</td>\n",
              "      <td>405</td>\n",
              "      <td>67.500000</td>\n",
              "      <td>8.902247</td>\n",
              "      <td>1.0</td>\n",
              "      <td>Medium Slow</td>\n",
              "      <td>1059860</td>\n",
              "      <td>0.0</td>\n",
              "      <td>1</td>\n",
              "      <td>0.0</td>\n",
              "      <td>0.0</td>\n",
              "      <td>0.0</td>\n",
              "      <td>0.0</td>\n",
              "      <td>1.0</td>\n",
              "      <td>2.0</td>\n",
              "      <td>0.5</td>\n",
              "      <td>0.5</td>\n",
              "      <td>0.25</td>\n",
              "      <td>2.0</td>\n",
              "      <td>0.5</td>\n",
              "      <td>1.0</td>\n",
              "      <td>1.0</td>\n",
              "      <td>2.0</td>\n",
              "      <td>2.0</td>\n",
              "      <td>1.0</td>\n",
              "      <td>1.0</td>\n",
              "      <td>1.0</td>\n",
              "      <td>1.0</td>\n",
              "      <td>1.0</td>\n",
              "      <td>1.0</td>\n",
              "      <td>0.5</td>\n",
              "      <td>1.0</td>\n",
              "      <td>13.0</td>\n",
              "      <td>13.0</td>\n",
              "    </tr>\n",
              "    <tr>\n",
              "      <th>2</th>\n",
              "      <td>3</td>\n",
              "      <td>Venusaur</td>\n",
              "      <td>Grass</td>\n",
              "      <td>Poison</td>\n",
              "      <td>['Chlorophyll', 'Overgrow']</td>\n",
              "      <td>80</td>\n",
              "      <td>82</td>\n",
              "      <td>83</td>\n",
              "      <td>100</td>\n",
              "      <td>100</td>\n",
              "      <td>80</td>\n",
              "      <td>525</td>\n",
              "      <td>87.500000</td>\n",
              "      <td>8.902247</td>\n",
              "      <td>1.0</td>\n",
              "      <td>Medium Slow</td>\n",
              "      <td>1059860</td>\n",
              "      <td>1.0</td>\n",
              "      <td>1</td>\n",
              "      <td>0.0</td>\n",
              "      <td>0.0</td>\n",
              "      <td>0.0</td>\n",
              "      <td>0.0</td>\n",
              "      <td>1.0</td>\n",
              "      <td>2.0</td>\n",
              "      <td>0.5</td>\n",
              "      <td>0.5</td>\n",
              "      <td>0.25</td>\n",
              "      <td>2.0</td>\n",
              "      <td>0.5</td>\n",
              "      <td>1.0</td>\n",
              "      <td>1.0</td>\n",
              "      <td>2.0</td>\n",
              "      <td>2.0</td>\n",
              "      <td>1.0</td>\n",
              "      <td>1.0</td>\n",
              "      <td>1.0</td>\n",
              "      <td>1.0</td>\n",
              "      <td>1.0</td>\n",
              "      <td>1.0</td>\n",
              "      <td>0.5</td>\n",
              "      <td>2.0</td>\n",
              "      <td>100.0</td>\n",
              "      <td>25.0</td>\n",
              "    </tr>\n",
              "    <tr>\n",
              "      <th>3</th>\n",
              "      <td>3</td>\n",
              "      <td>Mega Venusaur</td>\n",
              "      <td>Grass</td>\n",
              "      <td>Poison</td>\n",
              "      <td>['Thick Fat']</td>\n",
              "      <td>80</td>\n",
              "      <td>100</td>\n",
              "      <td>123</td>\n",
              "      <td>122</td>\n",
              "      <td>120</td>\n",
              "      <td>80</td>\n",
              "      <td>625</td>\n",
              "      <td>104.166667</td>\n",
              "      <td>18.747592</td>\n",
              "      <td>6.0</td>\n",
              "      <td>Medium Slow</td>\n",
              "      <td>1059860</td>\n",
              "      <td>1.0</td>\n",
              "      <td>1</td>\n",
              "      <td>0.0</td>\n",
              "      <td>1.0</td>\n",
              "      <td>0.0</td>\n",
              "      <td>0.0</td>\n",
              "      <td>1.0</td>\n",
              "      <td>2.0</td>\n",
              "      <td>0.5</td>\n",
              "      <td>0.5</td>\n",
              "      <td>0.25</td>\n",
              "      <td>2.0</td>\n",
              "      <td>0.5</td>\n",
              "      <td>1.0</td>\n",
              "      <td>1.0</td>\n",
              "      <td>2.0</td>\n",
              "      <td>2.0</td>\n",
              "      <td>1.0</td>\n",
              "      <td>1.0</td>\n",
              "      <td>1.0</td>\n",
              "      <td>1.0</td>\n",
              "      <td>1.0</td>\n",
              "      <td>1.0</td>\n",
              "      <td>0.5</td>\n",
              "      <td>2.4</td>\n",
              "      <td>155.5</td>\n",
              "      <td>27.0</td>\n",
              "    </tr>\n",
              "    <tr>\n",
              "      <th>4</th>\n",
              "      <td>4</td>\n",
              "      <td>Charmander</td>\n",
              "      <td>Fire</td>\n",
              "      <td>NaN</td>\n",
              "      <td>['Blaze', 'Solar Power']</td>\n",
              "      <td>39</td>\n",
              "      <td>52</td>\n",
              "      <td>43</td>\n",
              "      <td>60</td>\n",
              "      <td>50</td>\n",
              "      <td>65</td>\n",
              "      <td>309</td>\n",
              "      <td>51.500000</td>\n",
              "      <td>8.995369</td>\n",
              "      <td>1.0</td>\n",
              "      <td>Medium Slow</td>\n",
              "      <td>1059860</td>\n",
              "      <td>0.0</td>\n",
              "      <td>1</td>\n",
              "      <td>0.0</td>\n",
              "      <td>0.0</td>\n",
              "      <td>0.0</td>\n",
              "      <td>0.0</td>\n",
              "      <td>1.0</td>\n",
              "      <td>0.5</td>\n",
              "      <td>2.0</td>\n",
              "      <td>1.0</td>\n",
              "      <td>0.50</td>\n",
              "      <td>0.5</td>\n",
              "      <td>1.0</td>\n",
              "      <td>1.0</td>\n",
              "      <td>2.0</td>\n",
              "      <td>1.0</td>\n",
              "      <td>1.0</td>\n",
              "      <td>0.5</td>\n",
              "      <td>2.0</td>\n",
              "      <td>1.0</td>\n",
              "      <td>1.0</td>\n",
              "      <td>1.0</td>\n",
              "      <td>0.5</td>\n",
              "      <td>0.5</td>\n",
              "      <td>0.6</td>\n",
              "      <td>8.5</td>\n",
              "      <td>23.6</td>\n",
              "    </tr>\n",
              "  </tbody>\n",
              "</table>\n",
              "</div>"
            ],
            "text/plain": [
              "   Number           Name Type 1  Type 2  ... Against Fairy  Height  Weight   BMI\n",
              "0       1      Bulbasaur  Grass  Poison  ...           0.5     0.7     6.9  14.1\n",
              "1       2        Ivysaur  Grass  Poison  ...           0.5     1.0    13.0  13.0\n",
              "2       3       Venusaur  Grass  Poison  ...           0.5     2.0   100.0  25.0\n",
              "3       3  Mega Venusaur  Grass  Poison  ...           0.5     2.4   155.5  27.0\n",
              "4       4     Charmander   Fire     NaN  ...           0.5     0.6     8.5  23.6\n",
              "\n",
              "[5 rows x 44 columns]"
            ]
          },
          "metadata": {},
          "execution_count": 12
        }
      ]
    },
    {
      "cell_type": "code",
      "metadata": {
        "colab": {
          "base_uri": "https://localhost:8080/"
        },
        "id": "Evntaa2GJz0q",
        "outputId": "0c7a3825-22c4-4119-877c-6ad0b8e0a139"
      },
      "source": [
        "pkm.groupby(by='CatchRate').size() # 34 tipos  #pkm['Catch Rate'].value_counts() mesmo comando"
      ],
      "execution_count": null,
      "outputs": [
        {
          "output_type": "execute_result",
          "data": {
            "text/plain": [
              "CatchRate\n",
              "1    698\n",
              "2    334\n",
              "dtype: int64"
            ]
          },
          "metadata": {},
          "execution_count": 13
        }
      ]
    },
    {
      "cell_type": "code",
      "metadata": {
        "id": "m7oi4KVMT-1e"
      },
      "source": [
        "# Conversor do tipo de Pokémon para um numero ordenado.\n",
        "pkm['Type 1'] = pkm.apply(lambda row: 0 if 'Bug' in row['Type 1'] \n",
        "                               else 1 if 'Dark' in row['Type 1'] \n",
        "                               else 2 if 'Dragon' in row['Type 1']                     \n",
        "                               else 3 if 'Eletric' in row['Type 1']                 \n",
        "                               else 4 if 'Fairy' in row['Type 1']                \n",
        "                               else 5 if 'Fighting' in row['Type 1'] \n",
        "                               else 6 if 'Fire' in row['Type 1'] \n",
        "                               else 7 if 'Flying' in row['Type 1'] \n",
        "                               else 8 if 'Ghost' in row['Type 1']                      \n",
        "                               else 9 if 'Grass' in row['Type 1']                   \n",
        "                               else 10 if 'Ground' in row['Type 1']                  \n",
        "                               else 11 if 'Ice' in row['Type 1'] \n",
        "                               else 12 if 'Normal' in row['Type 1'] \n",
        "                               else 13 if 'Poison' in row['Type 1'] \n",
        "                               else 14 if 'Psychic' in row['Type 1']                       \n",
        "                               else 15 if 'Rock' in row['Type 1']                  \n",
        "                               else 16 if 'Steel' in row['Type 1']                   \n",
        "                               else 17 if 'Water' in row['Type 1']                                          \n",
        "                               else 20, axis=1)"
      ],
      "execution_count": null,
      "outputs": []
    },
    {
      "cell_type": "code",
      "metadata": {
        "colab": {
          "base_uri": "https://localhost:8080/"
        },
        "id": "LnzgZcPaeQL1",
        "outputId": "8021d51b-c445-4507-b93f-1f5a3afeed01"
      },
      "source": [
        "#Verificando como ficou o começo agora\n",
        "pkm.head()"
      ],
      "execution_count": null,
      "outputs": [
        {
          "output_type": "execute_result",
          "data": {
            "text/html": [
              "<div>\n",
              "<style scoped>\n",
              "    .dataframe tbody tr th:only-of-type {\n",
              "        vertical-align: middle;\n",
              "    }\n",
              "\n",
              "    .dataframe tbody tr th {\n",
              "        vertical-align: top;\n",
              "    }\n",
              "\n",
              "    .dataframe thead th {\n",
              "        text-align: right;\n",
              "    }\n",
              "</style>\n",
              "<table border=\"1\" class=\"dataframe\">\n",
              "  <thead>\n",
              "    <tr style=\"text-align: right;\">\n",
              "      <th></th>\n",
              "      <th>Number</th>\n",
              "      <th>Name</th>\n",
              "      <th>Type 1</th>\n",
              "      <th>Type 2</th>\n",
              "      <th>Abilities</th>\n",
              "      <th>HP</th>\n",
              "      <th>Att</th>\n",
              "      <th>Def</th>\n",
              "      <th>Spa</th>\n",
              "      <th>Spd</th>\n",
              "      <th>Spe</th>\n",
              "      <th>BST</th>\n",
              "      <th>Mean</th>\n",
              "      <th>Standard Deviation</th>\n",
              "      <th>Generation</th>\n",
              "      <th>Experience type</th>\n",
              "      <th>Experience to level 100</th>\n",
              "      <th>Final Evolution</th>\n",
              "      <th>CatchRate</th>\n",
              "      <th>Legendary</th>\n",
              "      <th>Mega Evolution</th>\n",
              "      <th>Alolan Form</th>\n",
              "      <th>Galarian Form</th>\n",
              "      <th>Against Normal</th>\n",
              "      <th>Against Fire</th>\n",
              "      <th>Against Water</th>\n",
              "      <th>Against Electric</th>\n",
              "      <th>Against Grass</th>\n",
              "      <th>Against Ice</th>\n",
              "      <th>Against Fighting</th>\n",
              "      <th>Against Poison</th>\n",
              "      <th>Against Ground</th>\n",
              "      <th>Against Flying</th>\n",
              "      <th>Against Psychic</th>\n",
              "      <th>Against Bug</th>\n",
              "      <th>Against Rock</th>\n",
              "      <th>Against Ghost</th>\n",
              "      <th>Against Dragon</th>\n",
              "      <th>Against Dark</th>\n",
              "      <th>Against Steel</th>\n",
              "      <th>Against Fairy</th>\n",
              "      <th>Height</th>\n",
              "      <th>Weight</th>\n",
              "      <th>BMI</th>\n",
              "    </tr>\n",
              "  </thead>\n",
              "  <tbody>\n",
              "    <tr>\n",
              "      <th>0</th>\n",
              "      <td>1</td>\n",
              "      <td>Bulbasaur</td>\n",
              "      <td>9</td>\n",
              "      <td>Poison</td>\n",
              "      <td>['Chlorophyll', 'Overgrow']</td>\n",
              "      <td>45</td>\n",
              "      <td>49</td>\n",
              "      <td>49</td>\n",
              "      <td>65</td>\n",
              "      <td>65</td>\n",
              "      <td>45</td>\n",
              "      <td>318</td>\n",
              "      <td>53.000000</td>\n",
              "      <td>8.640988</td>\n",
              "      <td>1.0</td>\n",
              "      <td>Medium Slow</td>\n",
              "      <td>1059860</td>\n",
              "      <td>0.0</td>\n",
              "      <td>1</td>\n",
              "      <td>0.0</td>\n",
              "      <td>0.0</td>\n",
              "      <td>0.0</td>\n",
              "      <td>0.0</td>\n",
              "      <td>1.0</td>\n",
              "      <td>2.0</td>\n",
              "      <td>0.5</td>\n",
              "      <td>0.5</td>\n",
              "      <td>0.25</td>\n",
              "      <td>2.0</td>\n",
              "      <td>0.5</td>\n",
              "      <td>1.0</td>\n",
              "      <td>1.0</td>\n",
              "      <td>2.0</td>\n",
              "      <td>2.0</td>\n",
              "      <td>1.0</td>\n",
              "      <td>1.0</td>\n",
              "      <td>1.0</td>\n",
              "      <td>1.0</td>\n",
              "      <td>1.0</td>\n",
              "      <td>1.0</td>\n",
              "      <td>0.5</td>\n",
              "      <td>0.7</td>\n",
              "      <td>6.9</td>\n",
              "      <td>14.1</td>\n",
              "    </tr>\n",
              "    <tr>\n",
              "      <th>1</th>\n",
              "      <td>2</td>\n",
              "      <td>Ivysaur</td>\n",
              "      <td>9</td>\n",
              "      <td>Poison</td>\n",
              "      <td>['Chlorophyll', 'Overgrow']</td>\n",
              "      <td>60</td>\n",
              "      <td>62</td>\n",
              "      <td>63</td>\n",
              "      <td>80</td>\n",
              "      <td>80</td>\n",
              "      <td>60</td>\n",
              "      <td>405</td>\n",
              "      <td>67.500000</td>\n",
              "      <td>8.902247</td>\n",
              "      <td>1.0</td>\n",
              "      <td>Medium Slow</td>\n",
              "      <td>1059860</td>\n",
              "      <td>0.0</td>\n",
              "      <td>1</td>\n",
              "      <td>0.0</td>\n",
              "      <td>0.0</td>\n",
              "      <td>0.0</td>\n",
              "      <td>0.0</td>\n",
              "      <td>1.0</td>\n",
              "      <td>2.0</td>\n",
              "      <td>0.5</td>\n",
              "      <td>0.5</td>\n",
              "      <td>0.25</td>\n",
              "      <td>2.0</td>\n",
              "      <td>0.5</td>\n",
              "      <td>1.0</td>\n",
              "      <td>1.0</td>\n",
              "      <td>2.0</td>\n",
              "      <td>2.0</td>\n",
              "      <td>1.0</td>\n",
              "      <td>1.0</td>\n",
              "      <td>1.0</td>\n",
              "      <td>1.0</td>\n",
              "      <td>1.0</td>\n",
              "      <td>1.0</td>\n",
              "      <td>0.5</td>\n",
              "      <td>1.0</td>\n",
              "      <td>13.0</td>\n",
              "      <td>13.0</td>\n",
              "    </tr>\n",
              "    <tr>\n",
              "      <th>2</th>\n",
              "      <td>3</td>\n",
              "      <td>Venusaur</td>\n",
              "      <td>9</td>\n",
              "      <td>Poison</td>\n",
              "      <td>['Chlorophyll', 'Overgrow']</td>\n",
              "      <td>80</td>\n",
              "      <td>82</td>\n",
              "      <td>83</td>\n",
              "      <td>100</td>\n",
              "      <td>100</td>\n",
              "      <td>80</td>\n",
              "      <td>525</td>\n",
              "      <td>87.500000</td>\n",
              "      <td>8.902247</td>\n",
              "      <td>1.0</td>\n",
              "      <td>Medium Slow</td>\n",
              "      <td>1059860</td>\n",
              "      <td>1.0</td>\n",
              "      <td>1</td>\n",
              "      <td>0.0</td>\n",
              "      <td>0.0</td>\n",
              "      <td>0.0</td>\n",
              "      <td>0.0</td>\n",
              "      <td>1.0</td>\n",
              "      <td>2.0</td>\n",
              "      <td>0.5</td>\n",
              "      <td>0.5</td>\n",
              "      <td>0.25</td>\n",
              "      <td>2.0</td>\n",
              "      <td>0.5</td>\n",
              "      <td>1.0</td>\n",
              "      <td>1.0</td>\n",
              "      <td>2.0</td>\n",
              "      <td>2.0</td>\n",
              "      <td>1.0</td>\n",
              "      <td>1.0</td>\n",
              "      <td>1.0</td>\n",
              "      <td>1.0</td>\n",
              "      <td>1.0</td>\n",
              "      <td>1.0</td>\n",
              "      <td>0.5</td>\n",
              "      <td>2.0</td>\n",
              "      <td>100.0</td>\n",
              "      <td>25.0</td>\n",
              "    </tr>\n",
              "    <tr>\n",
              "      <th>3</th>\n",
              "      <td>3</td>\n",
              "      <td>Mega Venusaur</td>\n",
              "      <td>9</td>\n",
              "      <td>Poison</td>\n",
              "      <td>['Thick Fat']</td>\n",
              "      <td>80</td>\n",
              "      <td>100</td>\n",
              "      <td>123</td>\n",
              "      <td>122</td>\n",
              "      <td>120</td>\n",
              "      <td>80</td>\n",
              "      <td>625</td>\n",
              "      <td>104.166667</td>\n",
              "      <td>18.747592</td>\n",
              "      <td>6.0</td>\n",
              "      <td>Medium Slow</td>\n",
              "      <td>1059860</td>\n",
              "      <td>1.0</td>\n",
              "      <td>1</td>\n",
              "      <td>0.0</td>\n",
              "      <td>1.0</td>\n",
              "      <td>0.0</td>\n",
              "      <td>0.0</td>\n",
              "      <td>1.0</td>\n",
              "      <td>2.0</td>\n",
              "      <td>0.5</td>\n",
              "      <td>0.5</td>\n",
              "      <td>0.25</td>\n",
              "      <td>2.0</td>\n",
              "      <td>0.5</td>\n",
              "      <td>1.0</td>\n",
              "      <td>1.0</td>\n",
              "      <td>2.0</td>\n",
              "      <td>2.0</td>\n",
              "      <td>1.0</td>\n",
              "      <td>1.0</td>\n",
              "      <td>1.0</td>\n",
              "      <td>1.0</td>\n",
              "      <td>1.0</td>\n",
              "      <td>1.0</td>\n",
              "      <td>0.5</td>\n",
              "      <td>2.4</td>\n",
              "      <td>155.5</td>\n",
              "      <td>27.0</td>\n",
              "    </tr>\n",
              "    <tr>\n",
              "      <th>4</th>\n",
              "      <td>4</td>\n",
              "      <td>Charmander</td>\n",
              "      <td>6</td>\n",
              "      <td>NaN</td>\n",
              "      <td>['Blaze', 'Solar Power']</td>\n",
              "      <td>39</td>\n",
              "      <td>52</td>\n",
              "      <td>43</td>\n",
              "      <td>60</td>\n",
              "      <td>50</td>\n",
              "      <td>65</td>\n",
              "      <td>309</td>\n",
              "      <td>51.500000</td>\n",
              "      <td>8.995369</td>\n",
              "      <td>1.0</td>\n",
              "      <td>Medium Slow</td>\n",
              "      <td>1059860</td>\n",
              "      <td>0.0</td>\n",
              "      <td>1</td>\n",
              "      <td>0.0</td>\n",
              "      <td>0.0</td>\n",
              "      <td>0.0</td>\n",
              "      <td>0.0</td>\n",
              "      <td>1.0</td>\n",
              "      <td>0.5</td>\n",
              "      <td>2.0</td>\n",
              "      <td>1.0</td>\n",
              "      <td>0.50</td>\n",
              "      <td>0.5</td>\n",
              "      <td>1.0</td>\n",
              "      <td>1.0</td>\n",
              "      <td>2.0</td>\n",
              "      <td>1.0</td>\n",
              "      <td>1.0</td>\n",
              "      <td>0.5</td>\n",
              "      <td>2.0</td>\n",
              "      <td>1.0</td>\n",
              "      <td>1.0</td>\n",
              "      <td>1.0</td>\n",
              "      <td>0.5</td>\n",
              "      <td>0.5</td>\n",
              "      <td>0.6</td>\n",
              "      <td>8.5</td>\n",
              "      <td>23.6</td>\n",
              "    </tr>\n",
              "  </tbody>\n",
              "</table>\n",
              "</div>"
            ],
            "text/plain": [
              "   Number           Name  Type 1  Type 2  ... Against Fairy  Height  Weight   BMI\n",
              "0       1      Bulbasaur       9  Poison  ...           0.5     0.7     6.9  14.1\n",
              "1       2        Ivysaur       9  Poison  ...           0.5     1.0    13.0  13.0\n",
              "2       3       Venusaur       9  Poison  ...           0.5     2.0   100.0  25.0\n",
              "3       3  Mega Venusaur       9  Poison  ...           0.5     2.4   155.5  27.0\n",
              "4       4     Charmander       6     NaN  ...           0.5     0.6     8.5  23.6\n",
              "\n",
              "[5 rows x 44 columns]"
            ]
          },
          "metadata": {},
          "execution_count": 15
        }
      ]
    },
    {
      "cell_type": "code",
      "metadata": {
        "colab": {
          "base_uri": "https://localhost:8080/"
        },
        "id": "g4b_fQoZevwW",
        "outputId": "52d67a0c-7e8f-40a9-aabf-d2e941b65fc1"
      },
      "source": [
        "#Informa a quantidade de Especimes dentro da base de dados.\n",
        "pkm.hist(column='Type 1',bins = 30)\n",
        "plt.show()"
      ],
      "execution_count": null,
      "outputs": [
        {
          "output_type": "display_data",
          "data": {
            "image/png": "[encoded data removed]",
            "text/plain": [
              "<Figure size 432x288 with 1 Axes>"
            ]
          },
          "metadata": {
            "needs_background": "light"
          }
        }
      ]
    },
    {
      "cell_type": "code",
      "metadata": {
        "id": "mDHHKZGxwx-n"
      },
      "source": [
        "#Excluindo colunas que não são necessarias\n",
        "pkm.drop(['Abilities', 'BST', 'Experience type', 'Type 2'], axis=1, inplace=True)\n"
      ],
      "execution_count": null,
      "outputs": []
    },
    {
      "cell_type": "markdown",
      "metadata": {
        "id": "AUbJ_HoLfNs8"
      },
      "source": [
        "Fizemos a correlação com o Catch Rate para tentar ver quais colunas tinham mais:"
      ]
    },
    {
      "cell_type": "code",
      "metadata": {
        "colab": {
          "base_uri": "https://localhost:8080/"
        },
        "id": "WPBryYO-fq5M",
        "outputId": "02488179-25ff-4cfb-b6ca-8328b349094e"
      },
      "source": [
        "from scipy.stats import pearsonr\n",
        "chaves = ['Type 1', 'HP', 'Att', 'Def', 'Spa', 'Spd', 'Spe', 'Mean', 'Standard Deviation', 'Generation', 'Experience to level 100', 'Final Evolution', 'Legendary', 'Mega Evolution', 'Alolan Form', 'Against Normal', 'Against Fire', 'Against Water', 'Against Electric', 'Against Grass', 'Against Ice', 'Against Fighting', 'Against Poison','Against Ground', 'Against Flying', 'Against Psychic', 'Against Bug', 'Against Rock', 'Against Ghost', 'Against Dragon', 'Against Dark', 'Against Steel', 'Against Fairy', 'Height', 'Weight', 'BMI']\n",
        "for chave in chaves:\n",
        "  corr, _ = pearsonr(pkm['CatchRate'], pkm[chave])\n",
        "  print('CatchRate - ', chave, ': correlação: %.2f' % corr)\n",
        "  \n",
        "  #Mean\n",
        "  #Final Evolution\n",
        "  #Legendary\n",
        "  #Att\n",
        "  #Spa\n",
        "  #Spd\n",
        "  #HP\n",
        "  "
      ],
      "execution_count": null,
      "outputs": [
        {
          "output_type": "stream",
          "name": "stdout",
          "text": [
            "CatchRate -  Type 1 : correlação: -0.00\n",
            "CatchRate -  HP : correlação: -0.42\n",
            "CatchRate -  Att : correlação: -0.49\n",
            "CatchRate -  Def : correlação: -0.42\n",
            "CatchRate -  Spa : correlação: -0.47\n",
            "CatchRate -  Spd : correlação: -0.48\n",
            "CatchRate -  Spe : correlação: -0.38\n",
            "CatchRate -  Mean : correlação: -0.67\n",
            "CatchRate -  Standard Deviation : correlação: -0.29\n",
            "CatchRate -  Generation : correlação: -0.06\n",
            "CatchRate -  Experience to level 100 : correlação: -0.13\n",
            "CatchRate -  Final Evolution : correlação: -0.60\n",
            "CatchRate -  Legendary : correlação: -0.23\n",
            "CatchRate -  Mega Evolution : correlação: -0.14\n",
            "CatchRate -  Alolan Form : correlação: 0.05\n",
            "CatchRate -  Against Normal : correlação: 0.09\n",
            "CatchRate -  Against Fire : correlação: 0.06\n",
            "CatchRate -  Against Water : correlação: -0.00\n",
            "CatchRate -  Against Electric : correlação: -0.02\n",
            "CatchRate -  Against Grass : correlação: 0.01\n",
            "CatchRate -  Against Ice : correlação: -0.02\n",
            "CatchRate -  Against Fighting : correlação: -0.01\n",
            "CatchRate -  Against Poison : correlação: 0.07\n",
            "CatchRate -  Against Ground : correlação: -0.04\n",
            "CatchRate -  Against Flying : correlação: 0.04\n",
            "CatchRate -  Against Psychic : correlação: 0.04\n",
            "CatchRate -  Against Bug : correlação: 0.02\n",
            "CatchRate -  Against Rock : correlação: -0.01\n",
            "CatchRate -  Against Ghost : correlação: -0.10\n",
            "CatchRate -  Against Dragon : correlação: -0.10\n",
            "CatchRate -  Against Dark : correlação: -0.04\n",
            "CatchRate -  Against Steel : correlação: 0.01\n",
            "CatchRate -  Against Fairy : correlação: -0.09\n",
            "CatchRate -  Height : correlação: -0.27\n",
            "CatchRate -  Weight : correlação: -0.24\n",
            "CatchRate -  BMI : correlação: -0.02\n"
          ]
        }
      ]
    },
    {
      "cell_type": "markdown",
      "metadata": {
        "id": "MhuMzRC4fZw7"
      },
      "source": [
        "Vamos ficar com as que mais tem correlação:\n",
        "*   Mean\n",
        "*   Final Evolution\n",
        "*   Legendary\n",
        "*   HP\n",
        "*   Att\n",
        "*   Def\n",
        "*   Spa\n",
        "*   Spd\n",
        "\n",
        "\n",
        "\n",
        "\n",
        "\n",
        "\n"
      ]
    },
    {
      "cell_type": "code",
      "metadata": {
        "id": "Qr6Jf9linAOf"
      },
      "source": [
        "#Removendo as outras colunas que não tem muita correlação:\n",
        "pkm.drop(['Number', 'Type 1', 'Name', 'Spe', 'Standard Deviation', 'Generation', 'Experience to level 100', 'Mega Evolution', 'Alolan Form', 'Galarian Form', 'Against Normal', 'Against Fire', 'Against Water', 'Against Electric', 'Against Grass', 'Against Ice', 'Against Fighting', 'Against Poison', 'Against Ground', 'Against Flying', 'Against Psychic', 'Against Bug', 'Against Rock', 'Against Ghost', 'Against Dragon', 'Against Dark', 'Against Steel', 'Against Fairy', 'Weight', 'Height', 'BMI'], axis=1, inplace= True)"
      ],
      "execution_count": null,
      "outputs": []
    },
    {
      "cell_type": "code",
      "metadata": {
        "colab": {
          "base_uri": "https://localhost:8080/"
        },
        "id": "J_a9Z1LKopg7",
        "outputId": "b2d29069-36d0-4f72-8863-e90b0904052d"
      },
      "source": [
        "#Verificando as que sobraram\n",
        "pkm.columns"
      ],
      "execution_count": null,
      "outputs": [
        {
          "output_type": "execute_result",
          "data": {
            "text/plain": [
              "Index(['HP', 'Att', 'Def', 'Spa', 'Spd', 'Mean', 'Final Evolution',\n",
              "       'CatchRate', 'Legendary'],\n",
              "      dtype='object')"
            ]
          },
          "metadata": {},
          "execution_count": 20
        }
      ]
    },
    {
      "cell_type": "markdown",
      "metadata": {
        "id": "2TtVYuSKgMoY"
      },
      "source": [
        "Definindo a target Catch Rate:"
      ]
    },
    {
      "cell_type": "code",
      "metadata": {
        "id": "ivbUhI9HozMK"
      },
      "source": [
        "target = pkm['CatchRate']\n",
        "\n",
        "data = pkm.drop (['CatchRate'], axis = 1)"
      ],
      "execution_count": null,
      "outputs": []
    },
    {
      "cell_type": "code",
      "metadata": {
        "id": "Mi7Zl2ZiydXi"
      },
      "source": [
        "#para fazer o treino, resolvemos deixar 65% para treinamento e 35% para teste\n",
        "from sklearn.model_selection import train_test_split\n",
        "X_train, X_test, y_train, y_test = train_test_split(data, target, test_size=0.35)"
      ],
      "execution_count": null,
      "outputs": []
    },
    {
      "cell_type": "markdown",
      "metadata": {
        "id": "TuFoWDNbgVuP"
      },
      "source": [
        "# Classificadores\n",
        "- arvore de decisão\n",
        "- regressão logística\n",
        "- knn\n",
        "- svm"
      ]
    },
    {
      "cell_type": "code",
      "metadata": {
        "id": "OmP9pKO7de-J"
      },
      "source": [
        "from sklearn import tree\n",
        "import graphviz\n",
        "import sklearn.metrics as metrics"
      ],
      "execution_count": null,
      "outputs": []
    },
    {
      "cell_type": "code",
      "metadata": {
        "id": "9JZIvsFOfcI8",
        "colab": {
          "base_uri": "https://localhost:8080/"
        },
        "outputId": "af709498-2ace-4494-ca09-612f15b209b9"
      },
      "source": [
        "t = tree.DecisionTreeClassifier(criterion='entropy', max_depth=7)\n",
        "t = t.fit(X_train, y_train)\n",
        "predictions = t.predict(X_test)\n",
        "print(predictions) "
      ],
      "execution_count": null,
      "outputs": [
        {
          "output_type": "stream",
          "name": "stdout",
          "text": [
            "[1 2 2 2 1 1 1 2 2 1 1 2 2 1 1 1 1 1 1 1 1 1 1 2 2 1 2 1 1 2 1 1 1 1 1 1 1\n",
            " 1 1 1 1 1 1 1 1 2 2 1 1 2 1 1 2 1 2 1 1 1 2 2 2 1 1 1 1 2 1 2 1 1 2 2 1 1\n",
            " 1 2 1 1 1 1 1 2 1 2 1 1 2 2 1 2 1 1 2 1 1 1 2 1 1 1 1 1 1 1 2 1 1 1 1 1 1\n",
            " 1 1 1 1 1 2 1 1 1 1 2 2 1 2 1 2 1 2 1 1 1 1 1 1 1 1 1 1 1 1 1 1 2 2 2 1 1\n",
            " 2 2 1 1 2 2 1 2 1 1 1 1 1 1 2 2 2 1 1 1 2 1 2 2 1 1 1 1 1 2 1 1 1 1 2 2 2\n",
            " 1 1 2 1 2 1 1 2 2 2 1 1 1 1 2 2 2 1 1 1 2 2 1 1 1 2 1 1 1 1 1 2 1 1 1 1 1\n",
            " 1 1 1 2 1 2 2 1 2 1 1 2 1 1 1 1 1 2 2 1 2 1 1 1 1 1 1 1 1 2 1 2 2 2 2 2 2\n",
            " 1 1 2 2 1 1 1 1 1 2 1 2 2 1 1 1 2 2 1 1 1 1 1 1 1 2 2 2 1 1 1 2 1 2 2 1 1\n",
            " 1 2 1 2 1 2 2 1 1 1 1 1 1 1 1 1 1 1 1 1 1 1 2 1 1 2 2 2 2 1 1 1 1 1 1 1 1\n",
            " 1 1 1 1 2 1 2 1 2 2 1 1 2 1 1 1 2 1 1 1 1 2 1 1 2 2 2 2 1]\n"
          ]
        }
      ]
    },
    {
      "cell_type": "code",
      "metadata": {
        "id": "dnmPCJ7PeQ2t",
        "colab": {
          "base_uri": "https://localhost:8080/"
        },
        "outputId": "f51784dd-40eb-4b87-8327-15fd90877e80"
      },
      "source": [
        "# APLICANDO O ALGORITMO DE ÁRVORE DE DECISÃO #\n",
        "clf = tree.DecisionTreeClassifier(criterion='entropy', max_depth=3)\n",
        "clf = clf.fit(X_train, y_train)\n",
        "predictionsTree = clf.predict(X_test)\n",
        "print(\"\\nMatriz de confusão detalhada:\\n\", pd.crosstab(y_test, predictionsTree, rownames=['Real'], colnames= ['Predito'], margins=True, margins_name='Todos'))\n",
        "\n",
        "dic_ARD = metrics.classification_report(y_test, predictionsTree, target_names=['Difícil', 'Fácil'],output_dict=True)\n",
        "result_ARD = dic_ARD['accuracy']\n",
        "print(\"\\nAcurácia da Árvore de decisão: \", result_ARD *100, '%')\n",
        "\n",
        "# MOSTRANDO OS RESULTADOS DO ALGORITMO DE ÁRVORE DE DECISÃO #\n",
        "print(\"\\nRelatório sobre a qualidade:\\n\")\n",
        "print(metrics.classification_report(y_test, predictionsTree, target_names=['Díficil', 'Fácil']))"
      ],
      "execution_count": null,
      "outputs": [
        {
          "output_type": "stream",
          "name": "stdout",
          "text": [
            "\n",
            "Matriz de confusão detalhada:\n",
            " Predito    1    2  Todos\n",
            "Real                    \n",
            "1        227   28    255\n",
            "2         22   85    107\n",
            "Todos    249  113    362\n",
            "\n",
            "Acurácia da Árvore de decisão:  86.1878453038674 %\n",
            "\n",
            "Relatório sobre a qualidade:\n",
            "\n",
            "              precision    recall  f1-score   support\n",
            "\n",
            "     Díficil       0.91      0.89      0.90       255\n",
            "       Fácil       0.75      0.79      0.77       107\n",
            "\n",
            "    accuracy                           0.86       362\n",
            "   macro avg       0.83      0.84      0.84       362\n",
            "weighted avg       0.86      0.86      0.86       362\n",
            "\n"
          ]
        }
      ]
    },
    {
      "cell_type": "code",
      "metadata": {
        "id": "Gx-HtSnR4wgs",
        "colab": {
          "base_uri": "https://localhost:8080/"
        },
        "outputId": "cb5c56dd-9985-4a44-89d1-3153a0f670c2"
      },
      "source": [
        "# APLICANDO O ALGORITMO DE REGRESSÃO LOGÍSTICA #\n",
        "from sklearn.linear_model import LogisticRegression\n",
        "modeloRL = LogisticRegression(solver='lbfgs',max_iter=5000)\n",
        "modeloRL = modeloRL.fit(X_train, y_train)\n",
        "predictionsRL = modeloRL.predict(X_test)\n",
        "\n",
        "# MOSTRANDO OS RESULTADOS DO ALGORITMO DE REGRESSÃO LOGÍSTICA #\n",
        "\n",
        "print(\"\\nMatriz de confusão detalhada de Regressão Logística:\\n\",\n",
        "      pd.crosstab(y_test, predictionsRL, rownames=['Real'], colnames=['Predito'],\n",
        "      margins=True, margins_name='Todos'))\n",
        "\n",
        "#from sklearn.metrics import classification_report\n",
        "#print(classification_report(y_test,predictionsARV))\n",
        "\n",
        "dic_RL = metrics.classification_report(y_test, predictionsRL, target_names=['Difícil', 'Fácil'],output_dict=True)\n",
        "result_RL = dic_RL['accuracy']\n",
        "print(\"\\nAcurácia da Regressão Logística: \", result_RL *100, '%')"
      ],
      "execution_count": null,
      "outputs": [
        {
          "output_type": "stream",
          "name": "stdout",
          "text": [
            "\n",
            "Matriz de confusão detalhada de Regressão Logística:\n",
            " Predito    1    2  Todos\n",
            "Real                    \n",
            "1        232   23    255\n",
            "2         22   85    107\n",
            "Todos    254  108    362\n",
            "\n",
            "Acurácia da Regressão Logística:  87.56906077348067 %\n"
          ]
        }
      ]
    },
    {
      "cell_type": "code",
      "metadata": {
        "colab": {
          "base_uri": "https://localhost:8080/"
        },
        "id": "ul8b5nVc92jM",
        "outputId": "e4998c57-5397-4a3d-accd-296c65a6ee68"
      },
      "source": [
        "# APLICANDO O ALGORITMO KNN #\n",
        "\n",
        "from sklearn.neighbors import KNeighborsClassifier\n",
        "\n",
        "modeloKNN = KNeighborsClassifier(n_neighbors=3)\n",
        "modeloKNN.fit(X_train, y_train)\n",
        "predictionsKNN = modeloKNN.predict(X_test)\n",
        "\n",
        "# MOSTRANDO OS RESULTADOS DO ALGORITMO KNN #\n",
        "\n",
        "print(\"\\nMatriz de confusão detalhada do KNN:\\n\",\n",
        "      pd.crosstab(y_test, predictionsKNN, rownames=['Real'], colnames=['Predito'],\n",
        "      margins=True, margins_name='Todos'))\n",
        "\n",
        "dic_knn = metrics.classification_report(y_test, predictionsKNN, target_names=['Díficil', 'Fácil'],output_dict=True)\n",
        "result_knn = dic_knn['accuracy']\n",
        "print(\"\\nAcurácia do KNN: \", result_knn *100, '%')"
      ],
      "execution_count": null,
      "outputs": [
        {
          "output_type": "stream",
          "name": "stdout",
          "text": [
            "\n",
            "Matriz de confusão detalhada do KNN:\n",
            " Predito    1    2  Todos\n",
            "Real                    \n",
            "1        227   28    255\n",
            "2         32   75    107\n",
            "Todos    259  103    362\n",
            "\n",
            "Acurácia do KNN:  83.42541436464089 %\n"
          ]
        }
      ]
    },
    {
      "cell_type": "code",
      "metadata": {
        "id": "wXpV_RP7_jad",
        "colab": {
          "base_uri": "https://localhost:8080/"
        },
        "outputId": "27daab27-db27-4adc-c9a3-4c3c0a86ee4d"
      },
      "source": [
        "# APLICANDO ALGORITMO SVM #\n",
        "\n",
        "from sklearn import svm\n",
        "\n",
        "modelosvm = svm.SVC()\n",
        "modelosvm.fit(X_train, y_train)\n",
        "\n",
        "predictionsSVM = modelosvm.predict(X_test)\n",
        "\n",
        "# MOSTRANDO O ALGORITMO SVM #\n",
        "\n",
        "print(\"\\nMatriz de confusão detalhada do SVM:\\n\",\n",
        "      pd.crosstab(y_test, predictionsSVM, rownames=['Real'], colnames=['Predito'],\n",
        "      margins=True, margins_name='Todos'))\n",
        "\n",
        "dic_svm = metrics.classification_report(y_test, predictionsSVM, target_names=['Díficil', 'Fácil'],output_dict=True)\n",
        "result_svm = dic_svm['accuracy']\n",
        "print(\"\\nAcurácia do SVM: \", result_svm *100, '%')"
      ],
      "execution_count": null,
      "outputs": [
        {
          "output_type": "stream",
          "name": "stdout",
          "text": [
            "\n",
            "Matriz de confusão detalhada do SVM:\n",
            " Predito    1    2  Todos\n",
            "Real                    \n",
            "1        231   24    255\n",
            "2         20   87    107\n",
            "Todos    251  111    362\n",
            "\n",
            "Acurácia do SVM:  87.84530386740332 %\n"
          ]
        }
      ]
    },
    {
      "cell_type": "markdown",
      "metadata": {
        "id": "G5WjL9CAJhoR"
      },
      "source": [
        "# Rede neural"
      ]
    },
    {
      "cell_type": "markdown",
      "metadata": {
        "id": "Hwhl9bpJBXUW"
      },
      "source": [
        "![Figura-1-Rede-Neural-Artificial-Multicamadas.png](data:image/png;base64,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)"
      ]
    },
    {
      "cell_type": "code",
      "metadata": {
        "id": "CwCn7nH3Jnu8"
      },
      "source": [
        "from sklearn.neural_network import MLPClassifier\n",
        "from sklearn.metrics import classification_report"
      ],
      "execution_count": null,
      "outputs": []
    },
    {
      "cell_type": "code",
      "metadata": {
        "id": "LWEwOJLMJqX7"
      },
      "source": [
        "X_train, X_test, y_train, y_test = train_test_split(data, target, test_size=0.35)"
      ],
      "execution_count": null,
      "outputs": []
    },
    {
      "cell_type": "code",
      "metadata": {
        "id": "7Pc7BaJJJt_h"
      },
      "source": [
        "clf = MLPClassifier(solver='adam', alpha=1e-5, hidden_layer_sizes=(100,50,25,12),activation='relu', random_state=1)\n",
        "clf.fit(X_train, y_train)\n",
        "predictionRN = clf.predict(X_test)"
      ],
      "execution_count": null,
      "outputs": []
    },
    {
      "cell_type": "code",
      "metadata": {
        "colab": {
          "base_uri": "https://localhost:8080/"
        },
        "id": "ZLBOkNQGJzBf",
        "outputId": "ada6d861-26e9-43f4-a874-fbf4bca454ea"
      },
      "source": [
        "print('Relatório:\\n',classification_report(y_test,predictionRN,target_names=['Fácil','Difícil']))"
      ],
      "execution_count": null,
      "outputs": [
        {
          "output_type": "stream",
          "name": "stdout",
          "text": [
            "Relatório:\n",
            "               precision    recall  f1-score   support\n",
            "\n",
            "       Fácil       0.90      0.87      0.88       248\n",
            "     Difícil       0.74      0.78      0.76       114\n",
            "\n",
            "    accuracy                           0.84       362\n",
            "   macro avg       0.82      0.83      0.82       362\n",
            "weighted avg       0.85      0.84      0.84       362\n",
            "\n"
          ]
        }
      ]
    },
    {
      "cell_type": "code",
      "metadata": {
        "colab": {
          "base_uri": "https://localhost:8080/"
        },
        "id": "60i0gT0hBvtM",
        "outputId": "0630f3b5-c947-40da-d0a3-d40a0843af8f"
      },
      "source": [
        "clf = MLPClassifier(solver='adam', alpha=1e-5, hidden_layer_sizes=(50,20,10), activation='relu', random_state=1)\n",
        "clf.fit(X_train, y_train)\n",
        "predictionRN = clf.predict(X_test)"
      ],
      "execution_count": null,
      "outputs": [
        {
          "output_type": "stream",
          "name": "stderr",
          "text": [
            "/usr/local/lib/python3.7/dist-packages/sklearn/neural_network/_multilayer_perceptron.py:696: ConvergenceWarning: Stochastic Optimizer: Maximum iterations (200) reached and the optimization hasn't converged yet.\n",
            "  ConvergenceWarning,\n"
          ]
        }
      ]
    },
    {
      "cell_type": "code",
      "metadata": {
        "colab": {
          "base_uri": "https://localhost:8080/"
        },
        "id": "mz0YwQunB1s8",
        "outputId": "b485020f-0e26-44a2-f882-4987a42934bc"
      },
      "source": [
        "print('Relatório:\\n',classification_report(y_test,predictionRN,target_names=['Fácil','Difícil']))"
      ],
      "execution_count": null,
      "outputs": [
        {
          "output_type": "stream",
          "name": "stdout",
          "text": [
            "Relatório:\n",
            "               precision    recall  f1-score   support\n",
            "\n",
            "       Fácil       0.84      0.90      0.87       248\n",
            "     Difícil       0.74      0.64      0.69       114\n",
            "\n",
            "    accuracy                           0.82       362\n",
            "   macro avg       0.79      0.77      0.78       362\n",
            "weighted avg       0.81      0.82      0.81       362\n",
            "\n"
          ]
        }
      ]
    },
    {
      "cell_type": "markdown",
      "metadata": {
        "id": "VVbWbp1QsGA-"
      },
      "source": [
        "## SMOTE"
      ]
    },
    {
      "cell_type": "code",
      "metadata": {
        "id": "RwKn-Qja5BRT"
      },
      "source": [
        "X = pkm.drop(\"CatchRate\", axis = 1)\n",
        "y = pkm.CatchRate"
      ],
      "execution_count": null,
      "outputs": []
    },
    {
      "cell_type": "code",
      "metadata": {
        "colab": {
          "base_uri": "https://localhost:8080/"
        },
        "id": "deJU2Ad2-Jsv",
        "outputId": "c29874c2-04c4-4a29-a3d8-549b87e64831"
      },
      "source": [
        "np.bincount(y)"
      ],
      "execution_count": null,
      "outputs": [
        {
          "output_type": "execute_result",
          "data": {
            "text/plain": [
              "array([  0, 698, 334])"
            ]
          },
          "metadata": {},
          "execution_count": 36
        }
      ]
    },
    {
      "cell_type": "code",
      "metadata": {
        "id": "UhqhOuvl5Kue"
      },
      "source": [
        "oversample = SMOTE()"
      ],
      "execution_count": null,
      "outputs": []
    },
    {
      "cell_type": "code",
      "metadata": {
        "id": "Wlby_QIC6P82"
      },
      "source": [
        "X, y = oversample.fit_resample(X, y)"
      ],
      "execution_count": null,
      "outputs": []
    },
    {
      "cell_type": "code",
      "metadata": {
        "colab": {
          "base_uri": "https://localhost:8080/"
        },
        "id": "_FkAg7tF9xW1",
        "outputId": "8cf0579b-e7a6-42d4-f9de-e7152e0fbb73"
      },
      "source": [
        "np.bincount(y)"
      ],
      "execution_count": null,
      "outputs": [
        {
          "output_type": "execute_result",
          "data": {
            "text/plain": [
              "array([  0, 698, 698])"
            ]
          },
          "metadata": {},
          "execution_count": 39
        }
      ]
    },
    {
      "cell_type": "code",
      "metadata": {
        "id": "PSOCf-DL-Vyv"
      },
      "source": [
        "X_train, X_test, y_train, y_test = train_test_split(X, y, random_state = 1, stratify=y)"
      ],
      "execution_count": null,
      "outputs": []
    },
    {
      "cell_type": "code",
      "metadata": {
        "colab": {
          "base_uri": "https://localhost:8080/"
        },
        "id": "y4Xo3_S5-yTd",
        "outputId": "4d6a7794-4098-493c-c6ad-1daec62c7bcc"
      },
      "source": [
        "#Arvore de Decisão\n",
        "clf = tree.DecisionTreeClassifier(criterion='entropy', max_depth=3)\n",
        "clf = clf.fit(X_train, y_train)\n",
        "predictionsTree = clf.predict(X_test)\n",
        "\n",
        "#Regressão Logística\n",
        "modeloRL = LogisticRegression(solver='lbfgs',max_iter=5000)\n",
        "modeloRL = modeloRL.fit(X_train, y_train)\n",
        "predictionsRL = modeloRL.predict(X_test)\n",
        "\n",
        "#KNN\n",
        "modeloKNN = KNeighborsClassifier(n_neighbors=3)\n",
        "modeloKNN.fit(X_train, y_train)\n",
        "predictionsKNN = modeloKNN.predict(X_test)\n",
        "\n",
        "#SVM\n",
        "modelosvm = svm.SVC()\n",
        "modelosvm.fit(X_train, y_train)\n",
        "predictionsSVM = modelosvm.predict(X_test)\n",
        "\n",
        "#Rede neural\n",
        "clf = MLPClassifier(solver='adam', alpha=1e-5, hidden_layer_sizes=(100,50,25,12),activation='relu', random_state=1)\n",
        "clf.fit(X_train, y_train)\n",
        "predictionRN = clf.predict(X_test)\n",
        "\n",
        "from sklearn.metrics import classification_report\n",
        "print('\\nRelatório Árvore Decisão:\\n',classification_report(y_test,predictionsTree))\n",
        "print('\\nRelatório KNN:\\n',classification_report(y_test,predictionsKNN))\n",
        "print('\\nRelatório SVM:\\n',classification_report(y_test,predictionsSVM))\n",
        "print('\\nRelatório Regressão Logística:\\n',classification_report(y_test,predictionsRL))\n",
        "print('\\nRelatório Rede Neural:\\n',classification_report(y_test,predictionRN))\n",
        "\n"
      ],
      "execution_count": null,
      "outputs": [
        {
          "output_type": "stream",
          "name": "stdout",
          "text": [
            "\n",
            "Relatório Árvore Decisão:\n",
            "               precision    recall  f1-score   support\n",
            "\n",
            "           1       0.91      0.90      0.91       174\n",
            "           2       0.90      0.91      0.91       175\n",
            "\n",
            "    accuracy                           0.91       349\n",
            "   macro avg       0.91      0.91      0.91       349\n",
            "weighted avg       0.91      0.91      0.91       349\n",
            "\n",
            "\n",
            "Relatório KNN:\n",
            "               precision    recall  f1-score   support\n",
            "\n",
            "           1       0.93      0.87      0.90       174\n",
            "           2       0.88      0.93      0.91       175\n",
            "\n",
            "    accuracy                           0.90       349\n",
            "   macro avg       0.90      0.90      0.90       349\n",
            "weighted avg       0.90      0.90      0.90       349\n",
            "\n",
            "\n",
            "Relatório SVM:\n",
            "               precision    recall  f1-score   support\n",
            "\n",
            "           1       0.92      0.87      0.89       174\n",
            "           2       0.88      0.92      0.90       175\n",
            "\n",
            "    accuracy                           0.89       349\n",
            "   macro avg       0.90      0.89      0.89       349\n",
            "weighted avg       0.90      0.89      0.89       349\n",
            "\n",
            "\n",
            "Relatório Regressão Logística:\n",
            "               precision    recall  f1-score   support\n",
            "\n",
            "           1       0.92      0.88      0.90       174\n",
            "           2       0.88      0.92      0.90       175\n",
            "\n",
            "    accuracy                           0.90       349\n",
            "   macro avg       0.90      0.90      0.90       349\n",
            "weighted avg       0.90      0.90      0.90       349\n",
            "\n",
            "\n",
            "Relatório Rede Neural:\n",
            "               precision    recall  f1-score   support\n",
            "\n",
            "           1       0.85      0.88      0.87       174\n",
            "           2       0.88      0.85      0.86       175\n",
            "\n",
            "    accuracy                           0.87       349\n",
            "   macro avg       0.87      0.87      0.87       349\n",
            "weighted avg       0.87      0.87      0.87       349\n",
            "\n"
          ]
        }
      ]
    },
    {
      "cell_type": "markdown",
      "metadata": {
        "id": "Knv9XuJigmLP"
      },
      "source": [
        "# Comitê"
      ]
    },
    {
      "cell_type": "code",
      "metadata": {
        "id": "fDGikOE5Ye4g"
      },
      "source": [
        "from collections import Counter\n",
        "predictionsComite = []\n",
        "for i in range(len(predictionsTree)):\n",
        "  comite = []\n",
        "  comite.append(predictionsTree[i])\n",
        "  comite.append(predictionsKNN[i])\n",
        "  comite.append(predictionsSVM[i])\n",
        "  comite.append(predictionsRL[i])\n",
        "  c = Counter(comite)\n",
        "  value, count = c.most_common()[0]\n",
        "  predictionsComite.append(value)\n",
        "predictionsCom = np.array(predictionsComite)"
      ],
      "execution_count": null,
      "outputs": []
    },
    {
      "cell_type": "code",
      "metadata": {
        "colab": {
          "base_uri": "https://localhost:8080/"
        },
        "id": "TSudN54LDcxw",
        "outputId": "3bb5f030-0873-40a2-bdf3-7cdc4928d03a"
      },
      "source": [
        "print('\\nRelatório Árvore Decisão:\\n',classification_report(y_test,predictionsTree))\n",
        "print('\\nRelatório KNN:\\n',classification_report(y_test,predictionsKNN))\n",
        "print('\\nRelatório SVM:\\n',classification_report(y_test,predictionsSVM))\n",
        "print('\\nRelatório Regressão Logística:\\n',classification_report(y_test,predictionsRL))\n",
        "print('\\nRelatório Rede Neural:\\n',classification_report(y_test,predictionRN))\n",
        "print('\\nRelatório Cômite:\\n',classification_report(y_test,predictionsCom))"
      ],
      "execution_count": null,
      "outputs": [
        {
          "output_type": "stream",
          "name": "stdout",
          "text": [
            "\n",
            "Relatório Árvore Decisão:\n",
            "               precision    recall  f1-score   support\n",
            "\n",
            "           1       0.91      0.90      0.91       174\n",
            "           2       0.90      0.91      0.91       175\n",
            "\n",
            "    accuracy                           0.91       349\n",
            "   macro avg       0.91      0.91      0.91       349\n",
            "weighted avg       0.91      0.91      0.91       349\n",
            "\n",
            "\n",
            "Relatório KNN:\n",
            "               precision    recall  f1-score   support\n",
            "\n",
            "           1       0.93      0.87      0.90       174\n",
            "           2       0.88      0.93      0.91       175\n",
            "\n",
            "    accuracy                           0.90       349\n",
            "   macro avg       0.90      0.90      0.90       349\n",
            "weighted avg       0.90      0.90      0.90       349\n",
            "\n",
            "\n",
            "Relatório SVM:\n",
            "               precision    recall  f1-score   support\n",
            "\n",
            "           1       0.92      0.87      0.89       174\n",
            "           2       0.88      0.92      0.90       175\n",
            "\n",
            "    accuracy                           0.89       349\n",
            "   macro avg       0.90      0.89      0.89       349\n",
            "weighted avg       0.90      0.89      0.89       349\n",
            "\n",
            "\n",
            "Relatório Regressão Logística:\n",
            "               precision    recall  f1-score   support\n",
            "\n",
            "           1       0.92      0.88      0.90       174\n",
            "           2       0.88      0.92      0.90       175\n",
            "\n",
            "    accuracy                           0.90       349\n",
            "   macro avg       0.90      0.90      0.90       349\n",
            "weighted avg       0.90      0.90      0.90       349\n",
            "\n",
            "\n",
            "Relatório Rede Neural:\n",
            "               precision    recall  f1-score   support\n",
            "\n",
            "           1       0.85      0.88      0.87       174\n",
            "           2       0.88      0.85      0.86       175\n",
            "\n",
            "    accuracy                           0.87       349\n",
            "   macro avg       0.87      0.87      0.87       349\n",
            "weighted avg       0.87      0.87      0.87       349\n",
            "\n",
            "\n",
            "Relatório Cômite:\n",
            "               precision    recall  f1-score   support\n",
            "\n",
            "           1       0.91      0.89      0.90       174\n",
            "           2       0.89      0.91      0.90       175\n",
            "\n",
            "    accuracy                           0.90       349\n",
            "   macro avg       0.90      0.90      0.90       349\n",
            "weighted avg       0.90      0.90      0.90       349\n",
            "\n"
          ]
        }
      ]
    },
    {
      "cell_type": "code",
      "metadata": {
        "id": "OUkiDHIUG2U9"
      },
      "source": [
        "# CatchRate\n",
        "pkm['CatchRate'] = pkm.apply(lambda row: 'Fácil'if 2 == row['CatchRate'] \n",
        "                               else 'Difícil' if 1 == row['CatchRate']\n",
        "                               else '', axis=1)                        "
      ],
      "execution_count": null,
      "outputs": []
    },
    {
      "cell_type": "code",
      "metadata": {
        "id": "sO_OcKjLGEvw"
      },
      "source": [
        "base = np.array(['', 'Difícil', 'Fácil'])\n",
        "test = np.array(X_test)\n",
        "real = np.array(y_test)"
      ],
      "execution_count": null,
      "outputs": []
    },
    {
      "cell_type": "code",
      "metadata": {
        "colab": {
          "base_uri": "https://localhost:8080/"
        },
        "id": "44HNcVPeKCcY",
        "outputId": "34009b8e-f17c-4eb1-e1ff-39341d794fd6"
      },
      "source": [
        "print(data.columns)"
      ],
      "execution_count": null,
      "outputs": [
        {
          "output_type": "stream",
          "name": "stdout",
          "text": [
            "Index(['HP', 'Att', 'Def', 'Spa', 'Spd', 'Mean', 'Final Evolution',\n",
            "       'Legendary'],\n",
            "      dtype='object')\n"
          ]
        }
      ]
    },
    {
      "cell_type": "code",
      "metadata": {
        "colab": {
          "base_uri": "https://localhost:8080/"
        },
        "id": "GL9oVA4xDoPU",
        "outputId": "5e3edee1-d9f7-40da-899d-6cabce575f3d"
      },
      "source": [
        "for i in range(20):\n",
        "  if base[ predictionsCom[i] ] == base[ real[i] ]: print('**Acertou!!', end='')\n",
        "  else: print('##Errou!!', end='')\n",
        "  for j in range(len(data.columns)):\n",
        "    print(f'{data.columns[j]}={test[i][j]:.0f},\\t', end='')\n",
        "  print('Previsão:', base[ predictionsCom[i] ], end='')\n",
        "  print(', Real:', base[ real[i] ])"
      ],
      "execution_count": null,
      "outputs": [
        {
          "output_type": "stream",
          "name": "stdout",
          "text": [
            "##Errou!!HP=45,\tAtt=65,\tDef=40,\tSpa=60,\tSpd=40,\tMean=53,\tFinal Evolution=0,\tLegendary=0,\tPrevisão: Fácil, Real: Difícil\n",
            "**Acertou!!HP=25,\tAtt=20,\tDef=20,\tSpa=25,\tSpd=45,\tMean=30,\tFinal Evolution=0,\tLegendary=0,\tPrevisão: Fácil, Real: Fácil\n",
            "**Acertou!!HP=70,\tAtt=90,\tDef=45,\tSpa=15,\tSpd=45,\tMean=52,\tFinal Evolution=0,\tLegendary=0,\tPrevisão: Fácil, Real: Fácil\n",
            "**Acertou!!HP=123,\tAtt=77,\tDef=72,\tSpa=99,\tSpd=92,\tMean=87,\tFinal Evolution=1,\tLegendary=0,\tPrevisão: Difícil, Real: Difícil\n",
            "**Acertou!!HP=85,\tAtt=110,\tDef=76,\tSpa=65,\tSpd=82,\tMean=79,\tFinal Evolution=1,\tLegendary=0,\tPrevisão: Difícil, Real: Difícil\n",
            "**Acertou!!HP=70,\tAtt=90,\tDef=45,\tSpa=15,\tSpd=45,\tMean=52,\tFinal Evolution=0,\tLegendary=0,\tPrevisão: Fácil, Real: Fácil\n",
            "**Acertou!!HP=30,\tAtt=37,\tDef=47,\tSpa=37,\tSpd=47,\tMean=40,\tFinal Evolution=0,\tLegendary=0,\tPrevisão: Fácil, Real: Fácil\n",
            "**Acertou!!HP=70,\tAtt=85,\tDef=70,\tSpa=60,\tSpd=70,\tMean=68,\tFinal Evolution=0,\tLegendary=0,\tPrevisão: Difícil, Real: Difícil\n",
            "**Acertou!!HP=100,\tAtt=115,\tDef=65,\tSpa=90,\tSpd=90,\tMean=88,\tFinal Evolution=1,\tLegendary=0,\tPrevisão: Difícil, Real: Difícil\n",
            "**Acertou!!HP=41,\tAtt=48,\tDef=65,\tSpa=39,\tSpd=57,\tMean=48,\tFinal Evolution=0,\tLegendary=0,\tPrevisão: Fácil, Real: Fácil\n",
            "**Acertou!!HP=37,\tAtt=63,\tDef=84,\tSpa=73,\tSpd=53,\tMean=57,\tFinal Evolution=0,\tLegendary=0,\tPrevisão: Fácil, Real: Fácil\n",
            "##Errou!!HP=70,\tAtt=100,\tDef=70,\tSpa=105,\tSpd=75,\tMean=77,\tFinal Evolution=1,\tLegendary=0,\tPrevisão: Difícil, Real: Fácil\n",
            "**Acertou!!HP=80,\tAtt=80,\tDef=50,\tSpa=40,\tSpd=50,\tMean=54,\tFinal Evolution=0,\tLegendary=0,\tPrevisão: Fácil, Real: Fácil\n",
            "**Acertou!!HP=33,\tAtt=18,\tDef=52,\tSpa=20,\tSpd=22,\tMean=34,\tFinal Evolution=0,\tLegendary=0,\tPrevisão: Fácil, Real: Fácil\n",
            "**Acertou!!HP=66,\tAtt=102,\tDef=107,\tSpa=48,\tSpd=41,\tMean=65,\tFinal Evolution=0,\tLegendary=0,\tPrevisão: Fácil, Real: Fácil\n",
            "**Acertou!!HP=53,\tAtt=75,\tDef=85,\tSpa=23,\tSpd=26,\tMean=48,\tFinal Evolution=0,\tLegendary=0,\tPrevisão: Fácil, Real: Fácil\n",
            "**Acertou!!HP=50,\tAtt=28,\tDef=55,\tSpa=25,\tSpd=25,\tMean=34,\tFinal Evolution=0,\tLegendary=0,\tPrevisão: Fácil, Real: Fácil\n",
            "**Acertou!!HP=71,\tAtt=120,\tDef=95,\tSpa=120,\tSpd=95,\tMean=100,\tFinal Evolution=1,\tLegendary=1,\tPrevisão: Difícil, Real: Difícil\n",
            "**Acertou!!HP=110,\tAtt=160,\tDef=110,\tSpa=80,\tSpd=110,\tMean=112,\tFinal Evolution=1,\tLegendary=1,\tPrevisão: Difícil, Real: Difícil\n",
            "**Acertou!!HP=41,\tAtt=40,\tDef=55,\tSpa=40,\tSpd=45,\tMean=45,\tFinal Evolution=0,\tLegendary=0,\tPrevisão: Fácil, Real: Fácil\n"
          ]
        }
      ]
    },
    {
      "cell_type": "markdown",
      "metadata": {
        "id": "zWYtacVwG8MC"
      },
      "source": [
        "# Extra"
      ]
    },
    {
      "cell_type": "code",
      "metadata": {
        "colab": {
          "base_uri": "https://localhost:8080/",
          "height": 603
        },
        "id": "fnn9o6pAGzzi",
        "outputId": "c1038830-f9ae-4f71-ef58-2f9c52b64f38"
      },
      "source": [
        "## entrada de dados extras para teste\n",
        "\n",
        "# esse codigo consiste em adicionar um novo elemento e testar esse elemento no comitê\n",
        "\n",
        "# COMITÊ DE CLASSIFICADORES COM ENTRADAS PARA VERIFICAÇÃO #\n",
        "\n",
        "'''\n",
        "'HP' = int\n",
        "'Att' = int\n",
        "'Def' = int     #pontuação (base de 10 a 200)\n",
        "'Spa' = int \n",
        "'Spd' = int\n",
        "'Mean' = media dos anteriores (hp + att + def + spa + spd /5)\n",
        "'Final Evolution' = binario\n",
        "'Legendary' = binario\n",
        "       \n",
        "ex do q foi usado:\n",
        "# Pclass: Classe do bilhete (1 = 1ª Classe, 2 = 2ª Classe e 3 = 3ª Classe)\n",
        "# Age: Idade do passageiro\n",
        "# SibSp: Quantidade de cônjuges e irmãos a bordo\n",
        "# Parch: Quantidade de pais e filhos a bordo\n",
        "# Fare: Preço da Passagem\n",
        "# male: sexo (0 = Feminino, 1 = Masculino)\n",
        "# C: Embarque em Cherbourg\n",
        "# Q: Embarque em Queenstown \n",
        "# S: Embarque em Southampton\n",
        "'''\n",
        "\n",
        "continua = ' '\n",
        "\n",
        "while continua != 'n' and continua != 'N': \n",
        "\n",
        "  EXEMPLO = []\n",
        "\n",
        "  print(\"defina os valores de seu personagem (recomendado usar pontos de 10 a 200)\")\n",
        "  HP = int(input(\"pontos de vida: \"))\n",
        "  EXEMPLO.append(HP)\n",
        "  Att = int(input(\"pontos de ataque: \"))\n",
        "  EXEMPLO.append(Att)\n",
        "  Def = int(input(\"pontos de defesa: \"))\n",
        "  EXEMPLO.append(Def)\n",
        "  Spa = int(input(\"pontos de super ataque: \"))\n",
        "  EXEMPLO.append(Spa)\n",
        "  Spd = int(input(\"pontos de super defesa: \"))\n",
        "  EXEMPLO.append(Spd)\n",
        "  Mean = (HP+Att+Def+Spa+Spd)/5\n",
        "  Final_Evolution = input(\"Informe se tem evolução final ('s' para tem evo. final e 'n' para NÃO tem evo. final):\")\n",
        "  if Final_Evolution == 's':\n",
        "    Final_Evolution = 1\n",
        "  else:\n",
        "    Final_Evolution = 0  \n",
        "  Legendary = input(\"Informe se é lendario ('s' para é lendario e 'n' para NÃO é lendario):\")\n",
        "  if Legendary == 's':\n",
        "    Legendary = 1\n",
        "  else:\n",
        "    Legendary = 0 \n",
        "\n",
        "\n",
        "  #EXEMPLO = np.array([1,28,0,0,350,1,0,0,1]).reshape((1,-1))\n",
        "  #EXEMPLO = [1,28,0,0,350,1,0,0,1]\n",
        "  #EXEMPLO = [3,53,0,0,350,1,0,0,1]\n",
        "\n",
        "#Fácil, Difícil\n",
        "  tot_f=0\n",
        "  tot_d=0\n",
        "  tot_nao = 0\n",
        "  tot_sim = 0\n",
        "\n",
        "  #me perdi aqui\n",
        "  #arvore == clf\n",
        "  pred_arv = (clf.predict([EXEMPLO])) #aqui retorna 0ou1 mas n sei o q representa eles\n",
        "  if pred_arv == 0 :\n",
        "    tot_nao = tot_nao + 1 #n sei se 0 é ficil ou dificil\n",
        "  else:\n",
        "    tot_sim = tot_sim + 1\n",
        "\n",
        "  pred_rl = (modeloRL.predict([EXEMPLO]))\n",
        "  if pred_rl == 0 :\n",
        "    tot_nao = tot_nao + 1\n",
        "  else:\n",
        "    tot_sim = tot_sim + 1\n",
        "\n",
        "  pred_nb = (modeloNB.predict([EXEMPLO]))\n",
        "  if pred_nb == 0 :\n",
        "    tot_nao = tot_nao + 1\n",
        "  else:\n",
        "    tot_sim = tot_sim + 1\n",
        "\n",
        "  pred_knn = (modeloKNN.predict([EXEMPLO]))\n",
        "  if pred_knn == 0 :\n",
        "    tot_nao = tot_nao + 1\n",
        "  else:\n",
        "    tot_sim = tot_sim + 1\n",
        "\n",
        "  pred_svm = (modelosvm.predict([EXEMPLO]))\n",
        "  if pred_svm == 0:\n",
        "    tot_nao = tot_nao + 1\n",
        "  else:\n",
        "    tot_sim = tot_sim + 1\n",
        "  print('\\n') #espacamento\n",
        "  if tot_sim >= 3:\n",
        "    print(\"O comitê acredita que .... facil ou dificil \")\n",
        "  else:\n",
        "    print(\"O comitê acredita que .... facil ou dificil \")\n",
        "\n",
        "  if tot_f == 5 or tot_d == 5:\n",
        "    print(\"O comitê é unânime na opinião.\")\n",
        "  else:\n",
        "    print(\"O comitê não é unânime na opinião.\")\n",
        "    print(pred_arv,pred_rl,pred_knn,pred_nb,pred_svm)\n",
        "  continua = input(\"Deseja continuar ('s' para = sim e 'n' para não)?\")\n"
      ],
      "execution_count": null,
      "outputs": [
        {
          "name": "stdout",
          "output_type": "stream",
          "text": [
            "defina os valores de seu personagem (recomendado usar pontos de 10 a 200)\n",
            "pontos de vida: 20\n",
            "pontos de ataque: 20\n",
            "pontos de defesa: 20\n",
            "pontos de super ataque: 30\n",
            "pontos de super defesa: 30\n",
            "Informe se tem evolução final ('s' para tem evo. final e 'n' para NÃO tem evo. final):s\n",
            "Informe se é lendario ('s' para é lendario e 'n' para NÃO é lendario):s\n"
          ]
        },
        {
          "output_type": "stream",
          "name": "stderr",
          "text": [
            "/usr/local/lib/python3.7/dist-packages/sklearn/base.py:446: UserWarning: X does not have valid feature names, but MLPClassifier was fitted with feature names\n",
            "  \"X does not have valid feature names, but\"\n"
          ]
        },
        {
          "output_type": "error",
          "ename": "ValueError",
          "evalue": "ignored",
          "traceback": [
            "\u001b[0;31m---------------------------------------------------------------------------\u001b[0m",
            "\u001b[0;31mValueError\u001b[0m                                Traceback (most recent call last)",
            "\u001b[0;32m<ipython-input-50-02d7761afee5>\u001b[0m in \u001b[0;36m<module>\u001b[0;34m()\u001b[0m\n\u001b[1;32m     69\u001b[0m   \u001b[0;31m#me perdi aqui\u001b[0m\u001b[0;34m\u001b[0m\u001b[0;34m\u001b[0m\u001b[0;34m\u001b[0m\u001b[0m\n\u001b[1;32m     70\u001b[0m   \u001b[0;31m#modeloTree???\u001b[0m\u001b[0;34m\u001b[0m\u001b[0;34m\u001b[0m\u001b[0;34m\u001b[0m\u001b[0m\n\u001b[0;32m---> 71\u001b[0;31m   \u001b[0mpred_arv\u001b[0m \u001b[0;34m=\u001b[0m \u001b[0;34m(\u001b[0m\u001b[0mclf\u001b[0m\u001b[0;34m.\u001b[0m\u001b[0mpredict\u001b[0m\u001b[0;34m(\u001b[0m\u001b[0;34m[\u001b[0m\u001b[0mEXEMPLO\u001b[0m\u001b[0;34m]\u001b[0m\u001b[0;34m)\u001b[0m\u001b[0;34m)\u001b[0m \u001b[0;31m#aqui retorna 0ou1 mas n sei o q representa eles\u001b[0m\u001b[0;34m\u001b[0m\u001b[0;34m\u001b[0m\u001b[0m\n\u001b[0m\u001b[1;32m     72\u001b[0m   \u001b[0;32mif\u001b[0m \u001b[0mpred_arv\u001b[0m \u001b[0;34m==\u001b[0m \u001b[0;36m0\u001b[0m \u001b[0;34m:\u001b[0m\u001b[0;34m\u001b[0m\u001b[0;34m\u001b[0m\u001b[0m\n\u001b[1;32m     73\u001b[0m     \u001b[0mtot_nao\u001b[0m \u001b[0;34m=\u001b[0m \u001b[0mtot_nao\u001b[0m \u001b[0;34m+\u001b[0m \u001b[0;36m1\u001b[0m \u001b[0;31m#n sei se 0 é ficil ou dificil\u001b[0m\u001b[0;34m\u001b[0m\u001b[0;34m\u001b[0m\u001b[0m\n",
            "\u001b[0;32m/usr/local/lib/python3.7/dist-packages/sklearn/neural_network/_multilayer_perceptron.py\u001b[0m in \u001b[0;36mpredict\u001b[0;34m(self, X)\u001b[0m\n\u001b[1;32m   1165\u001b[0m         \"\"\"\n\u001b[1;32m   1166\u001b[0m         \u001b[0mcheck_is_fitted\u001b[0m\u001b[0;34m(\u001b[0m\u001b[0mself\u001b[0m\u001b[0;34m)\u001b[0m\u001b[0;34m\u001b[0m\u001b[0;34m\u001b[0m\u001b[0m\n\u001b[0;32m-> 1167\u001b[0;31m         \u001b[0my_pred\u001b[0m \u001b[0;34m=\u001b[0m \u001b[0mself\u001b[0m\u001b[0;34m.\u001b[0m\u001b[0m_forward_pass_fast\u001b[0m\u001b[0;34m(\u001b[0m\u001b[0mX\u001b[0m\u001b[0;34m)\u001b[0m\u001b[0;34m\u001b[0m\u001b[0;34m\u001b[0m\u001b[0m\n\u001b[0m\u001b[1;32m   1168\u001b[0m \u001b[0;34m\u001b[0m\u001b[0m\n\u001b[1;32m   1169\u001b[0m         \u001b[0;32mif\u001b[0m \u001b[0mself\u001b[0m\u001b[0;34m.\u001b[0m\u001b[0mn_outputs_\u001b[0m \u001b[0;34m==\u001b[0m \u001b[0;36m1\u001b[0m\u001b[0;34m:\u001b[0m\u001b[0;34m\u001b[0m\u001b[0;34m\u001b[0m\u001b[0m\n",
            "\u001b[0;32m/usr/local/lib/python3.7/dist-packages/sklearn/neural_network/_multilayer_perceptron.py\u001b[0m in \u001b[0;36m_forward_pass_fast\u001b[0;34m(self, X)\u001b[0m\n\u001b[1;32m    157\u001b[0m             \u001b[0mThe\u001b[0m \u001b[0mdecision\u001b[0m \u001b[0mfunction\u001b[0m \u001b[0mof\u001b[0m \u001b[0mthe\u001b[0m \u001b[0msamples\u001b[0m \u001b[0;32mfor\u001b[0m \u001b[0meach\u001b[0m \u001b[0;32mclass\u001b[0m \u001b[0;32min\u001b[0m \u001b[0mthe\u001b[0m \u001b[0mmodel\u001b[0m\u001b[0;34m.\u001b[0m\u001b[0;34m\u001b[0m\u001b[0;34m\u001b[0m\u001b[0m\n\u001b[1;32m    158\u001b[0m         \"\"\"\n\u001b[0;32m--> 159\u001b[0;31m         \u001b[0mX\u001b[0m \u001b[0;34m=\u001b[0m \u001b[0mself\u001b[0m\u001b[0;34m.\u001b[0m\u001b[0m_validate_data\u001b[0m\u001b[0;34m(\u001b[0m\u001b[0mX\u001b[0m\u001b[0;34m,\u001b[0m \u001b[0maccept_sparse\u001b[0m\u001b[0;34m=\u001b[0m\u001b[0;34m[\u001b[0m\u001b[0;34m\"csr\"\u001b[0m\u001b[0;34m,\u001b[0m \u001b[0;34m\"csc\"\u001b[0m\u001b[0;34m]\u001b[0m\u001b[0;34m,\u001b[0m \u001b[0mreset\u001b[0m\u001b[0;34m=\u001b[0m\u001b[0;32mFalse\u001b[0m\u001b[0;34m)\u001b[0m\u001b[0;34m\u001b[0m\u001b[0;34m\u001b[0m\u001b[0m\n\u001b[0m\u001b[1;32m    160\u001b[0m \u001b[0;34m\u001b[0m\u001b[0m\n\u001b[1;32m    161\u001b[0m         \u001b[0;31m# Initialize first layer\u001b[0m\u001b[0;34m\u001b[0m\u001b[0;34m\u001b[0m\u001b[0;34m\u001b[0m\u001b[0m\n",
            "\u001b[0;32m/usr/local/lib/python3.7/dist-packages/sklearn/base.py\u001b[0m in \u001b[0;36m_validate_data\u001b[0;34m(self, X, y, reset, validate_separately, **check_params)\u001b[0m\n\u001b[1;32m    578\u001b[0m \u001b[0;34m\u001b[0m\u001b[0m\n\u001b[1;32m    579\u001b[0m         \u001b[0;32mif\u001b[0m \u001b[0;32mnot\u001b[0m \u001b[0mno_val_X\u001b[0m \u001b[0;32mand\u001b[0m \u001b[0mcheck_params\u001b[0m\u001b[0;34m.\u001b[0m\u001b[0mget\u001b[0m\u001b[0;34m(\u001b[0m\u001b[0;34m\"ensure_2d\"\u001b[0m\u001b[0;34m,\u001b[0m \u001b[0;32mTrue\u001b[0m\u001b[0;34m)\u001b[0m\u001b[0;34m:\u001b[0m\u001b[0;34m\u001b[0m\u001b[0;34m\u001b[0m\u001b[0m\n\u001b[0;32m--> 580\u001b[0;31m             \u001b[0mself\u001b[0m\u001b[0;34m.\u001b[0m\u001b[0m_check_n_features\u001b[0m\u001b[0;34m(\u001b[0m\u001b[0mX\u001b[0m\u001b[0;34m,\u001b[0m \u001b[0mreset\u001b[0m\u001b[0;34m=\u001b[0m\u001b[0mreset\u001b[0m\u001b[0;34m)\u001b[0m\u001b[0;34m\u001b[0m\u001b[0;34m\u001b[0m\u001b[0m\n\u001b[0m\u001b[1;32m    581\u001b[0m \u001b[0;34m\u001b[0m\u001b[0m\n\u001b[1;32m    582\u001b[0m         \u001b[0;32mreturn\u001b[0m \u001b[0mout\u001b[0m\u001b[0;34m\u001b[0m\u001b[0;34m\u001b[0m\u001b[0m\n",
            "\u001b[0;32m/usr/local/lib/python3.7/dist-packages/sklearn/base.py\u001b[0m in \u001b[0;36m_check_n_features\u001b[0;34m(self, X, reset)\u001b[0m\n\u001b[1;32m    394\u001b[0m         \u001b[0;32mif\u001b[0m \u001b[0mn_features\u001b[0m \u001b[0;34m!=\u001b[0m \u001b[0mself\u001b[0m\u001b[0;34m.\u001b[0m\u001b[0mn_features_in_\u001b[0m\u001b[0;34m:\u001b[0m\u001b[0;34m\u001b[0m\u001b[0;34m\u001b[0m\u001b[0m\n\u001b[1;32m    395\u001b[0m             raise ValueError(\n\u001b[0;32m--> 396\u001b[0;31m                 \u001b[0;34mf\"X has {n_features} features, but {self.__class__.__name__} \"\u001b[0m\u001b[0;34m\u001b[0m\u001b[0;34m\u001b[0m\u001b[0m\n\u001b[0m\u001b[1;32m    397\u001b[0m                 \u001b[0;34mf\"is expecting {self.n_features_in_} features as input.\"\u001b[0m\u001b[0;34m\u001b[0m\u001b[0;34m\u001b[0m\u001b[0m\n\u001b[1;32m    398\u001b[0m             )\n",
            "\u001b[0;31mValueError\u001b[0m: X has 5 features, but MLPClassifier is expecting 8 features as input."
          ]
        }
      ]
    },
    {
      "cell_type": "markdown",
      "metadata": {
        "id": "hnWp1HEBfyQH"
      },
      "source": [
        "# links\n",
        "\n",
        "\n",
        "```\n",
        "# pode apagar essa parte?\n",
        "```\n",
        "\n",
        "\n",
        "---\n",
        "*   menezes rede neural https://colab.research.google.com/drive/1H9txQHElnefTu_djRqmoNgv9IVvzP-yk?usp=sharing#scrollTo=45SdiaOaFNPz\n",
        "---\n",
        "*   outro cara ai https://colab.research.google.com/drive/1lvN4J-97wjd3flbBJ5C-YC8HIUbXiino?usp=sharing#scrollTo=e7NOkr1rUS1q\n",
        "\n",
        "gg.gg/registrarprojeto\n"
      ]
    }
  ]
}